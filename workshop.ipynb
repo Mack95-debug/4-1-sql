{
 "nbformat": 4,
 "nbformat_minor": 2,
 "metadata": {
  "language_info": {
   "name": "python",
   "codemirror_mode": {
    "name": "ipython",
    "version": 3
   },
   "version": "3.7.6-final"
  },
  "orig_nbformat": 2,
  "file_extension": ".py",
  "mimetype": "text/x-python",
  "name": "python",
  "npconvert_exporter": "python",
  "pygments_lexer": "ipython3",
  "version": 3,
  "kernelspec": {
   "name": "python3",
   "display_name": "Python 3",
   "language": "python"
  }
 },
 "cells": [
  {
   "cell_type": "markdown",
   "metadata": {},
   "source": [
    "# 1.1 Movies Database\n",
    "\n",
    "Take the movies dataset and turn it into a single `sqlite` database. It should have one table for each csv file in the movies dataset"
   ]
  },
  {
   "cell_type": "code",
   "execution_count": 82,
   "metadata": {},
   "outputs": [],
   "source": [
    "import sqlite3 \n",
    "import pandas as pd "
   ]
  },
  {
   "cell_type": "code",
   "execution_count": 185,
   "metadata": {},
   "outputs": [
    {
     "output_type": "execute_result",
     "data": {
      "text/plain": [
       "       adult                              belongs_to_collection    budget  \\\n",
       "0      False  {'id': 10194, 'name': 'Toy Story Collection', ...  30000000   \n",
       "1      False                                                NaN  65000000   \n",
       "2      False  {'id': 119050, 'name': 'Grumpy Old Men Collect...         0   \n",
       "3      False                                                NaN  16000000   \n",
       "4      False  {'id': 96871, 'name': 'Father of the Bride Col...         0   \n",
       "...      ...                                                ...       ...   \n",
       "45461  False                                                NaN         0   \n",
       "45462  False                                                NaN         0   \n",
       "45463  False                                                NaN         0   \n",
       "45464  False                                                NaN         0   \n",
       "45465  False                                                NaN         0   \n",
       "\n",
       "                                                  genres  \\\n",
       "0      [{'id': 16, 'name': 'Animation'}, {'id': 35, '...   \n",
       "1      [{'id': 12, 'name': 'Adventure'}, {'id': 14, '...   \n",
       "2      [{'id': 10749, 'name': 'Romance'}, {'id': 35, ...   \n",
       "3      [{'id': 35, 'name': 'Comedy'}, {'id': 18, 'nam...   \n",
       "4                         [{'id': 35, 'name': 'Comedy'}]   \n",
       "...                                                  ...   \n",
       "45461  [{'id': 18, 'name': 'Drama'}, {'id': 10751, 'n...   \n",
       "45462                      [{'id': 18, 'name': 'Drama'}]   \n",
       "45463  [{'id': 28, 'name': 'Action'}, {'id': 18, 'nam...   \n",
       "45464                                                 []   \n",
       "45465                                                 []   \n",
       "\n",
       "                                   homepage      id    imdb_id  \\\n",
       "0      http://toystory.disney.com/toy-story     862  tt0114709   \n",
       "1                                       NaN    8844  tt0113497   \n",
       "2                                       NaN   15602  tt0113228   \n",
       "3                                       NaN   31357  tt0114885   \n",
       "4                                       NaN   11862  tt0113041   \n",
       "...                                     ...     ...        ...   \n",
       "45461  http://www.imdb.com/title/tt6209470/  439050  tt6209470   \n",
       "45462                                   NaN  111109  tt2028550   \n",
       "45463                                   NaN   67758  tt0303758   \n",
       "45464                                   NaN  227506  tt0008536   \n",
       "45465                                   NaN  461257  tt6980792   \n",
       "\n",
       "      original_language               original_title  \\\n",
       "0                    en                    Toy Story   \n",
       "1                    en                      Jumanji   \n",
       "2                    en             Grumpier Old Men   \n",
       "3                    en            Waiting to Exhale   \n",
       "4                    en  Father of the Bride Part II   \n",
       "...                 ...                          ...   \n",
       "45461                fa                      رگ خواب   \n",
       "45462                tl          Siglo ng Pagluluwal   \n",
       "45463                en                     Betrayal   \n",
       "45464                en          Satana likuyushchiy   \n",
       "45465                en                     Queerama   \n",
       "\n",
       "                                                overview  ... release_date  \\\n",
       "0      Led by Woody, Andy's toys live happily in his ...  ...   1995-10-30   \n",
       "1      When siblings Judy and Peter discover an encha...  ...   1995-12-15   \n",
       "2      A family wedding reignites the ancient feud be...  ...   1995-12-22   \n",
       "3      Cheated on, mistreated and stepped on, the wom...  ...   1995-12-22   \n",
       "4      Just when George Banks has recovered from his ...  ...   1995-02-10   \n",
       "...                                                  ...  ...          ...   \n",
       "45461        Rising and falling between a man and woman.  ...          NaN   \n",
       "45462  An artist struggles to finish his work while a...  ...   2011-11-17   \n",
       "45463  When one of her hits goes wrong, a professiona...  ...   2003-08-01   \n",
       "45464  In a small town live two brothers, one a minis...  ...   1917-10-21   \n",
       "45465  50 years after decriminalisation of homosexual...  ...   2017-06-09   \n",
       "\n",
       "           revenue runtime                                   spoken_languages  \\\n",
       "0      373554033.0    81.0           [{'iso_639_1': 'en', 'name': 'English'}]   \n",
       "1      262797249.0   104.0  [{'iso_639_1': 'en', 'name': 'English'}, {'iso...   \n",
       "2              0.0   101.0           [{'iso_639_1': 'en', 'name': 'English'}]   \n",
       "3       81452156.0   127.0           [{'iso_639_1': 'en', 'name': 'English'}]   \n",
       "4       76578911.0   106.0           [{'iso_639_1': 'en', 'name': 'English'}]   \n",
       "...            ...     ...                                                ...   \n",
       "45461          0.0    90.0             [{'iso_639_1': 'fa', 'name': 'فارسی'}]   \n",
       "45462          0.0   360.0                  [{'iso_639_1': 'tl', 'name': ''}]   \n",
       "45463          0.0    90.0           [{'iso_639_1': 'en', 'name': 'English'}]   \n",
       "45464          0.0    87.0                                                 []   \n",
       "45465          0.0    75.0           [{'iso_639_1': 'en', 'name': 'English'}]   \n",
       "\n",
       "         status                                            tagline  \\\n",
       "0      Released                                                NaN   \n",
       "1      Released          Roll the dice and unleash the excitement!   \n",
       "2      Released  Still Yelling. Still Fighting. Still Ready for...   \n",
       "3      Released  Friends are the people who let you be yourself...   \n",
       "4      Released  Just When His World Is Back To Normal... He's ...   \n",
       "...         ...                                                ...   \n",
       "45461  Released         Rising and falling between a man and woman   \n",
       "45462  Released                                                NaN   \n",
       "45463  Released                             A deadly game of wits.   \n",
       "45464  Released                                                NaN   \n",
       "45465  Released                                                NaN   \n",
       "\n",
       "                             title  video vote_average vote_count  \n",
       "0                        Toy Story  False          7.7     5415.0  \n",
       "1                          Jumanji  False          6.9     2413.0  \n",
       "2                 Grumpier Old Men  False          6.5       92.0  \n",
       "3                Waiting to Exhale  False          6.1       34.0  \n",
       "4      Father of the Bride Part II  False          5.7      173.0  \n",
       "...                            ...    ...          ...        ...  \n",
       "45461                       Subdue  False          4.0        1.0  \n",
       "45462          Century of Birthing  False          9.0        3.0  \n",
       "45463                     Betrayal  False          3.8        6.0  \n",
       "45464             Satan Triumphant  False          0.0        0.0  \n",
       "45465                     Queerama  False          0.0        0.0  \n",
       "\n",
       "[45466 rows x 24 columns]"
      ],
      "text/html": "<div>\n<style scoped>\n    .dataframe tbody tr th:only-of-type {\n        vertical-align: middle;\n    }\n\n    .dataframe tbody tr th {\n        vertical-align: top;\n    }\n\n    .dataframe thead th {\n        text-align: right;\n    }\n</style>\n<table border=\"1\" class=\"dataframe\">\n  <thead>\n    <tr style=\"text-align: right;\">\n      <th></th>\n      <th>adult</th>\n      <th>belongs_to_collection</th>\n      <th>budget</th>\n      <th>genres</th>\n      <th>homepage</th>\n      <th>id</th>\n      <th>imdb_id</th>\n      <th>original_language</th>\n      <th>original_title</th>\n      <th>overview</th>\n      <th>...</th>\n      <th>release_date</th>\n      <th>revenue</th>\n      <th>runtime</th>\n      <th>spoken_languages</th>\n      <th>status</th>\n      <th>tagline</th>\n      <th>title</th>\n      <th>video</th>\n      <th>vote_average</th>\n      <th>vote_count</th>\n    </tr>\n  </thead>\n  <tbody>\n    <tr>\n      <th>0</th>\n      <td>False</td>\n      <td>{'id': 10194, 'name': 'Toy Story Collection', ...</td>\n      <td>30000000</td>\n      <td>[{'id': 16, 'name': 'Animation'}, {'id': 35, '...</td>\n      <td>http://toystory.disney.com/toy-story</td>\n      <td>862</td>\n      <td>tt0114709</td>\n      <td>en</td>\n      <td>Toy Story</td>\n      <td>Led by Woody, Andy's toys live happily in his ...</td>\n      <td>...</td>\n      <td>1995-10-30</td>\n      <td>373554033.0</td>\n      <td>81.0</td>\n      <td>[{'iso_639_1': 'en', 'name': 'English'}]</td>\n      <td>Released</td>\n      <td>NaN</td>\n      <td>Toy Story</td>\n      <td>False</td>\n      <td>7.7</td>\n      <td>5415.0</td>\n    </tr>\n    <tr>\n      <th>1</th>\n      <td>False</td>\n      <td>NaN</td>\n      <td>65000000</td>\n      <td>[{'id': 12, 'name': 'Adventure'}, {'id': 14, '...</td>\n      <td>NaN</td>\n      <td>8844</td>\n      <td>tt0113497</td>\n      <td>en</td>\n      <td>Jumanji</td>\n      <td>When siblings Judy and Peter discover an encha...</td>\n      <td>...</td>\n      <td>1995-12-15</td>\n      <td>262797249.0</td>\n      <td>104.0</td>\n      <td>[{'iso_639_1': 'en', 'name': 'English'}, {'iso...</td>\n      <td>Released</td>\n      <td>Roll the dice and unleash the excitement!</td>\n      <td>Jumanji</td>\n      <td>False</td>\n      <td>6.9</td>\n      <td>2413.0</td>\n    </tr>\n    <tr>\n      <th>2</th>\n      <td>False</td>\n      <td>{'id': 119050, 'name': 'Grumpy Old Men Collect...</td>\n      <td>0</td>\n      <td>[{'id': 10749, 'name': 'Romance'}, {'id': 35, ...</td>\n      <td>NaN</td>\n      <td>15602</td>\n      <td>tt0113228</td>\n      <td>en</td>\n      <td>Grumpier Old Men</td>\n      <td>A family wedding reignites the ancient feud be...</td>\n      <td>...</td>\n      <td>1995-12-22</td>\n      <td>0.0</td>\n      <td>101.0</td>\n      <td>[{'iso_639_1': 'en', 'name': 'English'}]</td>\n      <td>Released</td>\n      <td>Still Yelling. Still Fighting. Still Ready for...</td>\n      <td>Grumpier Old Men</td>\n      <td>False</td>\n      <td>6.5</td>\n      <td>92.0</td>\n    </tr>\n    <tr>\n      <th>3</th>\n      <td>False</td>\n      <td>NaN</td>\n      <td>16000000</td>\n      <td>[{'id': 35, 'name': 'Comedy'}, {'id': 18, 'nam...</td>\n      <td>NaN</td>\n      <td>31357</td>\n      <td>tt0114885</td>\n      <td>en</td>\n      <td>Waiting to Exhale</td>\n      <td>Cheated on, mistreated and stepped on, the wom...</td>\n      <td>...</td>\n      <td>1995-12-22</td>\n      <td>81452156.0</td>\n      <td>127.0</td>\n      <td>[{'iso_639_1': 'en', 'name': 'English'}]</td>\n      <td>Released</td>\n      <td>Friends are the people who let you be yourself...</td>\n      <td>Waiting to Exhale</td>\n      <td>False</td>\n      <td>6.1</td>\n      <td>34.0</td>\n    </tr>\n    <tr>\n      <th>4</th>\n      <td>False</td>\n      <td>{'id': 96871, 'name': 'Father of the Bride Col...</td>\n      <td>0</td>\n      <td>[{'id': 35, 'name': 'Comedy'}]</td>\n      <td>NaN</td>\n      <td>11862</td>\n      <td>tt0113041</td>\n      <td>en</td>\n      <td>Father of the Bride Part II</td>\n      <td>Just when George Banks has recovered from his ...</td>\n      <td>...</td>\n      <td>1995-02-10</td>\n      <td>76578911.0</td>\n      <td>106.0</td>\n      <td>[{'iso_639_1': 'en', 'name': 'English'}]</td>\n      <td>Released</td>\n      <td>Just When His World Is Back To Normal... He's ...</td>\n      <td>Father of the Bride Part II</td>\n      <td>False</td>\n      <td>5.7</td>\n      <td>173.0</td>\n    </tr>\n    <tr>\n      <th>...</th>\n      <td>...</td>\n      <td>...</td>\n      <td>...</td>\n      <td>...</td>\n      <td>...</td>\n      <td>...</td>\n      <td>...</td>\n      <td>...</td>\n      <td>...</td>\n      <td>...</td>\n      <td>...</td>\n      <td>...</td>\n      <td>...</td>\n      <td>...</td>\n      <td>...</td>\n      <td>...</td>\n      <td>...</td>\n      <td>...</td>\n      <td>...</td>\n      <td>...</td>\n      <td>...</td>\n    </tr>\n    <tr>\n      <th>45461</th>\n      <td>False</td>\n      <td>NaN</td>\n      <td>0</td>\n      <td>[{'id': 18, 'name': 'Drama'}, {'id': 10751, 'n...</td>\n      <td>http://www.imdb.com/title/tt6209470/</td>\n      <td>439050</td>\n      <td>tt6209470</td>\n      <td>fa</td>\n      <td>رگ خواب</td>\n      <td>Rising and falling between a man and woman.</td>\n      <td>...</td>\n      <td>NaN</td>\n      <td>0.0</td>\n      <td>90.0</td>\n      <td>[{'iso_639_1': 'fa', 'name': 'فارسی'}]</td>\n      <td>Released</td>\n      <td>Rising and falling between a man and woman</td>\n      <td>Subdue</td>\n      <td>False</td>\n      <td>4.0</td>\n      <td>1.0</td>\n    </tr>\n    <tr>\n      <th>45462</th>\n      <td>False</td>\n      <td>NaN</td>\n      <td>0</td>\n      <td>[{'id': 18, 'name': 'Drama'}]</td>\n      <td>NaN</td>\n      <td>111109</td>\n      <td>tt2028550</td>\n      <td>tl</td>\n      <td>Siglo ng Pagluluwal</td>\n      <td>An artist struggles to finish his work while a...</td>\n      <td>...</td>\n      <td>2011-11-17</td>\n      <td>0.0</td>\n      <td>360.0</td>\n      <td>[{'iso_639_1': 'tl', 'name': ''}]</td>\n      <td>Released</td>\n      <td>NaN</td>\n      <td>Century of Birthing</td>\n      <td>False</td>\n      <td>9.0</td>\n      <td>3.0</td>\n    </tr>\n    <tr>\n      <th>45463</th>\n      <td>False</td>\n      <td>NaN</td>\n      <td>0</td>\n      <td>[{'id': 28, 'name': 'Action'}, {'id': 18, 'nam...</td>\n      <td>NaN</td>\n      <td>67758</td>\n      <td>tt0303758</td>\n      <td>en</td>\n      <td>Betrayal</td>\n      <td>When one of her hits goes wrong, a professiona...</td>\n      <td>...</td>\n      <td>2003-08-01</td>\n      <td>0.0</td>\n      <td>90.0</td>\n      <td>[{'iso_639_1': 'en', 'name': 'English'}]</td>\n      <td>Released</td>\n      <td>A deadly game of wits.</td>\n      <td>Betrayal</td>\n      <td>False</td>\n      <td>3.8</td>\n      <td>6.0</td>\n    </tr>\n    <tr>\n      <th>45464</th>\n      <td>False</td>\n      <td>NaN</td>\n      <td>0</td>\n      <td>[]</td>\n      <td>NaN</td>\n      <td>227506</td>\n      <td>tt0008536</td>\n      <td>en</td>\n      <td>Satana likuyushchiy</td>\n      <td>In a small town live two brothers, one a minis...</td>\n      <td>...</td>\n      <td>1917-10-21</td>\n      <td>0.0</td>\n      <td>87.0</td>\n      <td>[]</td>\n      <td>Released</td>\n      <td>NaN</td>\n      <td>Satan Triumphant</td>\n      <td>False</td>\n      <td>0.0</td>\n      <td>0.0</td>\n    </tr>\n    <tr>\n      <th>45465</th>\n      <td>False</td>\n      <td>NaN</td>\n      <td>0</td>\n      <td>[]</td>\n      <td>NaN</td>\n      <td>461257</td>\n      <td>tt6980792</td>\n      <td>en</td>\n      <td>Queerama</td>\n      <td>50 years after decriminalisation of homosexual...</td>\n      <td>...</td>\n      <td>2017-06-09</td>\n      <td>0.0</td>\n      <td>75.0</td>\n      <td>[{'iso_639_1': 'en', 'name': 'English'}]</td>\n      <td>Released</td>\n      <td>NaN</td>\n      <td>Queerama</td>\n      <td>False</td>\n      <td>0.0</td>\n      <td>0.0</td>\n    </tr>\n  </tbody>\n</table>\n<p>45466 rows × 24 columns</p>\n</div>"
     },
     "metadata": {},
     "execution_count": 185
    }
   ],
   "source": [
    "df = pd.read_csv(\"/Users/kalebmckenzie/Documents/GitHub/4-1-sql/movies_metadata.csv\")\n",
    "df"
   ]
  },
  {
   "cell_type": "code",
   "execution_count": 156,
   "metadata": {},
   "outputs": [],
   "source": [
    "#cleaing up the budget col so its easier to work with\n",
    "ran_bud = df[df['budget'] == '/ff9qCepilowshEtG2GYWwzt2bs4.jpg'].index\n",
    "ran_bud2 = df[df['budget'] == '/zV8bHuSL6WXoD6FWogP9j4x80bL.jpg'].index\n",
    "ran_bud3 = df[df['budget'] == '/zaSf5OG7V8X8gqFvly88zDdRm46.jpg'].index\n",
    "\n",
    "df.drop(ran_bud, inplace = True)\n",
    "df.drop(ran_bud2, inplace = True)\n",
    "df.drop(ran_bud3, inplace = True)\n",
    "\n",
    "df['budget'] = df['budget'].astype(int)"
   ]
  },
  {
   "cell_type": "code",
   "execution_count": 157,
   "metadata": {},
   "outputs": [],
   "source": [
    "df.to_csv('new_movies.csv')"
   ]
  },
  {
   "cell_type": "code",
   "execution_count": 83,
   "metadata": {},
   "outputs": [],
   "source": [
    "conn = sqlite3.connect('movie.db')\n",
    "c = conn.cursor()"
   ]
  },
  {
   "cell_type": "code",
   "execution_count": 107,
   "metadata": {},
   "outputs": [],
   "source": [
    "credits = pd.read_csv('/Users/kalebmckenzie/Documents/GitHub/4-1-sql/credits.csv')\n",
    "credits.to_sql('credits', conn, if_exists='replace', index = False)"
   ]
  },
  {
   "cell_type": "code",
   "execution_count": 108,
   "metadata": {},
   "outputs": [],
   "source": [
    "keywords = pd.read_csv('/Users/kalebmckenzie/Documents/GitHub/4-1-sql/keywords.csv')\n",
    "keywords.to_sql('keywords', conn, if_exists='replace', index = False)"
   ]
  },
  {
   "cell_type": "code",
   "execution_count": 109,
   "metadata": {},
   "outputs": [],
   "source": [
    "link_s = pd.read_csv('/Users/kalebmckenzie/Documents/GitHub/4-1-sql/links_small.csv')\n",
    "link_s.to_sql('link_s', conn, if_exists='replace', index = False)"
   ]
  },
  {
   "cell_type": "code",
   "execution_count": 110,
   "metadata": {},
   "outputs": [],
   "source": [
    "links = pd.read_csv('/Users/kalebmckenzie/Documents/GitHub/4-1-sql/links.csv')\n",
    "links.to_sql('links', conn, if_exists='replace', index = False)"
   ]
  },
  {
   "cell_type": "code",
   "execution_count": 158,
   "metadata": {},
   "outputs": [],
   "source": [
    "metadata = pd.read_csv('/Users/kalebmckenzie/Documents/GitHub/4-1-sql/new_movies.csv')\n",
    "metadata.to_sql('metadata', conn, if_exists='replace', index = False)"
   ]
  },
  {
   "cell_type": "code",
   "execution_count": 112,
   "metadata": {},
   "outputs": [],
   "source": [
    "rating_s = pd.read_csv('/Users/kalebmckenzie/Documents/GitHub/4-1-sql/ratings_small.csv')\n",
    "rating_s.to_sql('rating_s', conn, if_exists='replace', index = False)"
   ]
  },
  {
   "cell_type": "code",
   "execution_count": 113,
   "metadata": {},
   "outputs": [],
   "source": [
    "ratings = pd.read_csv('/Users/kalebmckenzie/Documents/GitHub/4-1-sql/ratings.csv')\n",
    "ratings.to_sql('ratings', conn, if_exists='replace', index = False)"
   ]
  },
  {
   "cell_type": "code",
   "execution_count": 117,
   "metadata": {},
   "outputs": [],
   "source": [
    "def tables_in_sqlite_db(conn):\n",
    "    cursor = conn.execute(\"SELECT name FROM sqlite_master WHERE type='table';\")\n",
    "    tables = [\n",
    "        v[0] for v in cursor.fetchall()\n",
    "        if v[0] != \"sqlite_sequence\"\n",
    "    ]\n",
    "    cursor.close()\n",
    "    return tables"
   ]
  },
  {
   "cell_type": "code",
   "execution_count": 118,
   "metadata": {},
   "outputs": [
    {
     "output_type": "execute_result",
     "data": {
      "text/plain": [
       "['credits', 'keywords', 'link_s', 'links', 'rating_s', 'ratings', 'metadata']"
      ]
     },
     "metadata": {},
     "execution_count": 118
    }
   ],
   "source": [
    "movie_tables = tables_in_sqlite_db(conn)\n",
    "movie_tables"
   ]
  },
  {
   "cell_type": "code",
   "execution_count": 198,
   "metadata": {},
   "outputs": [
    {
     "output_type": "execute_result",
     "data": {
      "text/plain": [
       "       Unnamed: 0  adult                              belongs_to_collection  \\\n",
       "0               0      0  {'id': 10194, 'name': 'Toy Story Collection', ...   \n",
       "1               1      0                                               None   \n",
       "2               2      0  {'id': 119050, 'name': 'Grumpy Old Men Collect...   \n",
       "3               3      0                                               None   \n",
       "4               4      0  {'id': 96871, 'name': 'Father of the Bride Col...   \n",
       "...           ...    ...                                                ...   \n",
       "45458       45461      0                                               None   \n",
       "45459       45462      0                                               None   \n",
       "45460       45463      0                                               None   \n",
       "45461       45464      0                                               None   \n",
       "45462       45465      0                                               None   \n",
       "\n",
       "         budget                                             genres  \\\n",
       "0      30000000  [{'id': 16, 'name': 'Animation'}, {'id': 35, '...   \n",
       "1      65000000  [{'id': 12, 'name': 'Adventure'}, {'id': 14, '...   \n",
       "2             0  [{'id': 10749, 'name': 'Romance'}, {'id': 35, ...   \n",
       "3      16000000  [{'id': 35, 'name': 'Comedy'}, {'id': 18, 'nam...   \n",
       "4             0                     [{'id': 35, 'name': 'Comedy'}]   \n",
       "...         ...                                                ...   \n",
       "45458         0  [{'id': 18, 'name': 'Drama'}, {'id': 10751, 'n...   \n",
       "45459         0                      [{'id': 18, 'name': 'Drama'}]   \n",
       "45460         0  [{'id': 28, 'name': 'Action'}, {'id': 18, 'nam...   \n",
       "45461         0                                                 []   \n",
       "45462         0                                                 []   \n",
       "\n",
       "                                   homepage      id    imdb_id  \\\n",
       "0      http://toystory.disney.com/toy-story     862  tt0114709   \n",
       "1                                      None    8844  tt0113497   \n",
       "2                                      None   15602  tt0113228   \n",
       "3                                      None   31357  tt0114885   \n",
       "4                                      None   11862  tt0113041   \n",
       "...                                     ...     ...        ...   \n",
       "45458  http://www.imdb.com/title/tt6209470/  439050  tt6209470   \n",
       "45459                                  None  111109  tt2028550   \n",
       "45460                                  None   67758  tt0303758   \n",
       "45461                                  None  227506  tt0008536   \n",
       "45462                                  None  461257  tt6980792   \n",
       "\n",
       "      original_language               original_title  ... release_date  \\\n",
       "0                    en                    Toy Story  ...   1995-10-30   \n",
       "1                    en                      Jumanji  ...   1995-12-15   \n",
       "2                    en             Grumpier Old Men  ...   1995-12-22   \n",
       "3                    en            Waiting to Exhale  ...   1995-12-22   \n",
       "4                    en  Father of the Bride Part II  ...   1995-02-10   \n",
       "...                 ...                          ...  ...          ...   \n",
       "45458                fa                      رگ خواب  ...         None   \n",
       "45459                tl          Siglo ng Pagluluwal  ...   2011-11-17   \n",
       "45460                en                     Betrayal  ...   2003-08-01   \n",
       "45461                en          Satana likuyushchiy  ...   1917-10-21   \n",
       "45462                en                     Queerama  ...   2017-06-09   \n",
       "\n",
       "           revenue runtime                                   spoken_languages  \\\n",
       "0      373554033.0    81.0           [{'iso_639_1': 'en', 'name': 'English'}]   \n",
       "1      262797249.0   104.0  [{'iso_639_1': 'en', 'name': 'English'}, {'iso...   \n",
       "2              0.0   101.0           [{'iso_639_1': 'en', 'name': 'English'}]   \n",
       "3       81452156.0   127.0           [{'iso_639_1': 'en', 'name': 'English'}]   \n",
       "4       76578911.0   106.0           [{'iso_639_1': 'en', 'name': 'English'}]   \n",
       "...            ...     ...                                                ...   \n",
       "45458          0.0    90.0             [{'iso_639_1': 'fa', 'name': 'فارسی'}]   \n",
       "45459          0.0   360.0                  [{'iso_639_1': 'tl', 'name': ''}]   \n",
       "45460          0.0    90.0           [{'iso_639_1': 'en', 'name': 'English'}]   \n",
       "45461          0.0    87.0                                                 []   \n",
       "45462          0.0    75.0           [{'iso_639_1': 'en', 'name': 'English'}]   \n",
       "\n",
       "         status                                            tagline  \\\n",
       "0      Released                                               None   \n",
       "1      Released          Roll the dice and unleash the excitement!   \n",
       "2      Released  Still Yelling. Still Fighting. Still Ready for...   \n",
       "3      Released  Friends are the people who let you be yourself...   \n",
       "4      Released  Just When His World Is Back To Normal... He's ...   \n",
       "...         ...                                                ...   \n",
       "45458  Released         Rising and falling between a man and woman   \n",
       "45459  Released                                               None   \n",
       "45460  Released                             A deadly game of wits.   \n",
       "45461  Released                                               None   \n",
       "45462  Released                                               None   \n",
       "\n",
       "                             title  video vote_average vote_count  \n",
       "0                        Toy Story    0.0          7.7     5415.0  \n",
       "1                          Jumanji    0.0          6.9     2413.0  \n",
       "2                 Grumpier Old Men    0.0          6.5       92.0  \n",
       "3                Waiting to Exhale    0.0          6.1       34.0  \n",
       "4      Father of the Bride Part II    0.0          5.7      173.0  \n",
       "...                            ...    ...          ...        ...  \n",
       "45458                       Subdue    0.0          4.0        1.0  \n",
       "45459          Century of Birthing    0.0          9.0        3.0  \n",
       "45460                     Betrayal    0.0          3.8        6.0  \n",
       "45461             Satan Triumphant    0.0          0.0        0.0  \n",
       "45462                     Queerama    0.0          0.0        0.0  \n",
       "\n",
       "[45463 rows x 25 columns]"
      ],
      "text/html": "<div>\n<style scoped>\n    .dataframe tbody tr th:only-of-type {\n        vertical-align: middle;\n    }\n\n    .dataframe tbody tr th {\n        vertical-align: top;\n    }\n\n    .dataframe thead th {\n        text-align: right;\n    }\n</style>\n<table border=\"1\" class=\"dataframe\">\n  <thead>\n    <tr style=\"text-align: right;\">\n      <th></th>\n      <th>Unnamed: 0</th>\n      <th>adult</th>\n      <th>belongs_to_collection</th>\n      <th>budget</th>\n      <th>genres</th>\n      <th>homepage</th>\n      <th>id</th>\n      <th>imdb_id</th>\n      <th>original_language</th>\n      <th>original_title</th>\n      <th>...</th>\n      <th>release_date</th>\n      <th>revenue</th>\n      <th>runtime</th>\n      <th>spoken_languages</th>\n      <th>status</th>\n      <th>tagline</th>\n      <th>title</th>\n      <th>video</th>\n      <th>vote_average</th>\n      <th>vote_count</th>\n    </tr>\n  </thead>\n  <tbody>\n    <tr>\n      <th>0</th>\n      <td>0</td>\n      <td>0</td>\n      <td>{'id': 10194, 'name': 'Toy Story Collection', ...</td>\n      <td>30000000</td>\n      <td>[{'id': 16, 'name': 'Animation'}, {'id': 35, '...</td>\n      <td>http://toystory.disney.com/toy-story</td>\n      <td>862</td>\n      <td>tt0114709</td>\n      <td>en</td>\n      <td>Toy Story</td>\n      <td>...</td>\n      <td>1995-10-30</td>\n      <td>373554033.0</td>\n      <td>81.0</td>\n      <td>[{'iso_639_1': 'en', 'name': 'English'}]</td>\n      <td>Released</td>\n      <td>None</td>\n      <td>Toy Story</td>\n      <td>0.0</td>\n      <td>7.7</td>\n      <td>5415.0</td>\n    </tr>\n    <tr>\n      <th>1</th>\n      <td>1</td>\n      <td>0</td>\n      <td>None</td>\n      <td>65000000</td>\n      <td>[{'id': 12, 'name': 'Adventure'}, {'id': 14, '...</td>\n      <td>None</td>\n      <td>8844</td>\n      <td>tt0113497</td>\n      <td>en</td>\n      <td>Jumanji</td>\n      <td>...</td>\n      <td>1995-12-15</td>\n      <td>262797249.0</td>\n      <td>104.0</td>\n      <td>[{'iso_639_1': 'en', 'name': 'English'}, {'iso...</td>\n      <td>Released</td>\n      <td>Roll the dice and unleash the excitement!</td>\n      <td>Jumanji</td>\n      <td>0.0</td>\n      <td>6.9</td>\n      <td>2413.0</td>\n    </tr>\n    <tr>\n      <th>2</th>\n      <td>2</td>\n      <td>0</td>\n      <td>{'id': 119050, 'name': 'Grumpy Old Men Collect...</td>\n      <td>0</td>\n      <td>[{'id': 10749, 'name': 'Romance'}, {'id': 35, ...</td>\n      <td>None</td>\n      <td>15602</td>\n      <td>tt0113228</td>\n      <td>en</td>\n      <td>Grumpier Old Men</td>\n      <td>...</td>\n      <td>1995-12-22</td>\n      <td>0.0</td>\n      <td>101.0</td>\n      <td>[{'iso_639_1': 'en', 'name': 'English'}]</td>\n      <td>Released</td>\n      <td>Still Yelling. Still Fighting. Still Ready for...</td>\n      <td>Grumpier Old Men</td>\n      <td>0.0</td>\n      <td>6.5</td>\n      <td>92.0</td>\n    </tr>\n    <tr>\n      <th>3</th>\n      <td>3</td>\n      <td>0</td>\n      <td>None</td>\n      <td>16000000</td>\n      <td>[{'id': 35, 'name': 'Comedy'}, {'id': 18, 'nam...</td>\n      <td>None</td>\n      <td>31357</td>\n      <td>tt0114885</td>\n      <td>en</td>\n      <td>Waiting to Exhale</td>\n      <td>...</td>\n      <td>1995-12-22</td>\n      <td>81452156.0</td>\n      <td>127.0</td>\n      <td>[{'iso_639_1': 'en', 'name': 'English'}]</td>\n      <td>Released</td>\n      <td>Friends are the people who let you be yourself...</td>\n      <td>Waiting to Exhale</td>\n      <td>0.0</td>\n      <td>6.1</td>\n      <td>34.0</td>\n    </tr>\n    <tr>\n      <th>4</th>\n      <td>4</td>\n      <td>0</td>\n      <td>{'id': 96871, 'name': 'Father of the Bride Col...</td>\n      <td>0</td>\n      <td>[{'id': 35, 'name': 'Comedy'}]</td>\n      <td>None</td>\n      <td>11862</td>\n      <td>tt0113041</td>\n      <td>en</td>\n      <td>Father of the Bride Part II</td>\n      <td>...</td>\n      <td>1995-02-10</td>\n      <td>76578911.0</td>\n      <td>106.0</td>\n      <td>[{'iso_639_1': 'en', 'name': 'English'}]</td>\n      <td>Released</td>\n      <td>Just When His World Is Back To Normal... He's ...</td>\n      <td>Father of the Bride Part II</td>\n      <td>0.0</td>\n      <td>5.7</td>\n      <td>173.0</td>\n    </tr>\n    <tr>\n      <th>...</th>\n      <td>...</td>\n      <td>...</td>\n      <td>...</td>\n      <td>...</td>\n      <td>...</td>\n      <td>...</td>\n      <td>...</td>\n      <td>...</td>\n      <td>...</td>\n      <td>...</td>\n      <td>...</td>\n      <td>...</td>\n      <td>...</td>\n      <td>...</td>\n      <td>...</td>\n      <td>...</td>\n      <td>...</td>\n      <td>...</td>\n      <td>...</td>\n      <td>...</td>\n      <td>...</td>\n    </tr>\n    <tr>\n      <th>45458</th>\n      <td>45461</td>\n      <td>0</td>\n      <td>None</td>\n      <td>0</td>\n      <td>[{'id': 18, 'name': 'Drama'}, {'id': 10751, 'n...</td>\n      <td>http://www.imdb.com/title/tt6209470/</td>\n      <td>439050</td>\n      <td>tt6209470</td>\n      <td>fa</td>\n      <td>رگ خواب</td>\n      <td>...</td>\n      <td>None</td>\n      <td>0.0</td>\n      <td>90.0</td>\n      <td>[{'iso_639_1': 'fa', 'name': 'فارسی'}]</td>\n      <td>Released</td>\n      <td>Rising and falling between a man and woman</td>\n      <td>Subdue</td>\n      <td>0.0</td>\n      <td>4.0</td>\n      <td>1.0</td>\n    </tr>\n    <tr>\n      <th>45459</th>\n      <td>45462</td>\n      <td>0</td>\n      <td>None</td>\n      <td>0</td>\n      <td>[{'id': 18, 'name': 'Drama'}]</td>\n      <td>None</td>\n      <td>111109</td>\n      <td>tt2028550</td>\n      <td>tl</td>\n      <td>Siglo ng Pagluluwal</td>\n      <td>...</td>\n      <td>2011-11-17</td>\n      <td>0.0</td>\n      <td>360.0</td>\n      <td>[{'iso_639_1': 'tl', 'name': ''}]</td>\n      <td>Released</td>\n      <td>None</td>\n      <td>Century of Birthing</td>\n      <td>0.0</td>\n      <td>9.0</td>\n      <td>3.0</td>\n    </tr>\n    <tr>\n      <th>45460</th>\n      <td>45463</td>\n      <td>0</td>\n      <td>None</td>\n      <td>0</td>\n      <td>[{'id': 28, 'name': 'Action'}, {'id': 18, 'nam...</td>\n      <td>None</td>\n      <td>67758</td>\n      <td>tt0303758</td>\n      <td>en</td>\n      <td>Betrayal</td>\n      <td>...</td>\n      <td>2003-08-01</td>\n      <td>0.0</td>\n      <td>90.0</td>\n      <td>[{'iso_639_1': 'en', 'name': 'English'}]</td>\n      <td>Released</td>\n      <td>A deadly game of wits.</td>\n      <td>Betrayal</td>\n      <td>0.0</td>\n      <td>3.8</td>\n      <td>6.0</td>\n    </tr>\n    <tr>\n      <th>45461</th>\n      <td>45464</td>\n      <td>0</td>\n      <td>None</td>\n      <td>0</td>\n      <td>[]</td>\n      <td>None</td>\n      <td>227506</td>\n      <td>tt0008536</td>\n      <td>en</td>\n      <td>Satana likuyushchiy</td>\n      <td>...</td>\n      <td>1917-10-21</td>\n      <td>0.0</td>\n      <td>87.0</td>\n      <td>[]</td>\n      <td>Released</td>\n      <td>None</td>\n      <td>Satan Triumphant</td>\n      <td>0.0</td>\n      <td>0.0</td>\n      <td>0.0</td>\n    </tr>\n    <tr>\n      <th>45462</th>\n      <td>45465</td>\n      <td>0</td>\n      <td>None</td>\n      <td>0</td>\n      <td>[]</td>\n      <td>None</td>\n      <td>461257</td>\n      <td>tt6980792</td>\n      <td>en</td>\n      <td>Queerama</td>\n      <td>...</td>\n      <td>2017-06-09</td>\n      <td>0.0</td>\n      <td>75.0</td>\n      <td>[{'iso_639_1': 'en', 'name': 'English'}]</td>\n      <td>Released</td>\n      <td>None</td>\n      <td>Queerama</td>\n      <td>0.0</td>\n      <td>0.0</td>\n      <td>0.0</td>\n    </tr>\n  </tbody>\n</table>\n<p>45463 rows × 25 columns</p>\n</div>"
     },
     "metadata": {},
     "execution_count": 198
    }
   ],
   "source": [
    "p2 = pd.read_sql('select * from metadata', conn)\n",
    "p2"
   ]
  },
  {
   "cell_type": "markdown",
   "metadata": {},
   "source": [
    "# 1.2 Queries\n",
    "\n",
    "**1.2.1** Use a single query to pull the original title of movies with a budget above $5m\n",
    "\n",
    "**1.2.2** Use a query to pull the english-language films with the word `war` in their title\n",
    "\n",
    "**1.2.3** Left join the average ratings from the `ratings` table onto the `movies_metadata` table, so you can have a relation between budget and rating. Hint: use a subquery."
   ]
  },
  {
   "source": [
    "# 1.2.1"
   ],
   "cell_type": "markdown",
   "metadata": {}
  },
  {
   "cell_type": "code",
   "execution_count": 161,
   "metadata": {},
   "outputs": [
    {
     "output_type": "execute_result",
     "data": {
      "text/plain": [
       "                    original_title    budget\n",
       "0                        Toy Story  30000000\n",
       "1                          Jumanji  65000000\n",
       "2                Waiting to Exhale  16000000\n",
       "3                             Heat  60000000\n",
       "4                          Sabrina  58000000\n",
       "...                            ...       ...\n",
       "5166                       Detroit  34000000\n",
       "5167                        சிவாஜி  12000000\n",
       "5168                       Pattaya   5402000\n",
       "5169  Les Visiteurs: La Révolution  25868826\n",
       "5170     House of the Long Shadows   7500000\n",
       "\n",
       "[5171 rows x 2 columns]"
      ],
      "text/html": "<div>\n<style scoped>\n    .dataframe tbody tr th:only-of-type {\n        vertical-align: middle;\n    }\n\n    .dataframe tbody tr th {\n        vertical-align: top;\n    }\n\n    .dataframe thead th {\n        text-align: right;\n    }\n</style>\n<table border=\"1\" class=\"dataframe\">\n  <thead>\n    <tr style=\"text-align: right;\">\n      <th></th>\n      <th>original_title</th>\n      <th>budget</th>\n    </tr>\n  </thead>\n  <tbody>\n    <tr>\n      <th>0</th>\n      <td>Toy Story</td>\n      <td>30000000</td>\n    </tr>\n    <tr>\n      <th>1</th>\n      <td>Jumanji</td>\n      <td>65000000</td>\n    </tr>\n    <tr>\n      <th>2</th>\n      <td>Waiting to Exhale</td>\n      <td>16000000</td>\n    </tr>\n    <tr>\n      <th>3</th>\n      <td>Heat</td>\n      <td>60000000</td>\n    </tr>\n    <tr>\n      <th>4</th>\n      <td>Sabrina</td>\n      <td>58000000</td>\n    </tr>\n    <tr>\n      <th>...</th>\n      <td>...</td>\n      <td>...</td>\n    </tr>\n    <tr>\n      <th>5166</th>\n      <td>Detroit</td>\n      <td>34000000</td>\n    </tr>\n    <tr>\n      <th>5167</th>\n      <td>சிவாஜி</td>\n      <td>12000000</td>\n    </tr>\n    <tr>\n      <th>5168</th>\n      <td>Pattaya</td>\n      <td>5402000</td>\n    </tr>\n    <tr>\n      <th>5169</th>\n      <td>Les Visiteurs: La Révolution</td>\n      <td>25868826</td>\n    </tr>\n    <tr>\n      <th>5170</th>\n      <td>House of the Long Shadows</td>\n      <td>7500000</td>\n    </tr>\n  </tbody>\n</table>\n<p>5171 rows × 2 columns</p>\n</div>"
     },
     "metadata": {},
     "execution_count": 161
    }
   ],
   "source": [
    "q1 = pd.read_sql_query(\n",
    "\"\"\"\n",
    "SELECT \n",
    "    original_title,\n",
    "    budget\n",
    "\n",
    "FROM metadata\n",
    "\n",
    "WHERE budget > 5000000\n",
    "\n",
    "\"\"\", \n",
    "    con=conn\n",
    ")\n",
    "q1"
   ]
  },
  {
   "source": [
    "# 1.2.2"
   ],
   "cell_type": "markdown",
   "metadata": {}
  },
  {
   "cell_type": "code",
   "execution_count": 180,
   "metadata": {},
   "outputs": [
    {
     "output_type": "execute_result",
     "data": {
      "text/plain": [
       "   original_language                                              title\n",
       "0                 en                                       The War Room\n",
       "1                 en                                    The War at Home\n",
       "2                 en                              The War of the Worlds\n",
       "3                 en                                       The War Zone\n",
       "4                 en                               The War of the Roses\n",
       "5                 en                               At War with the Army\n",
       "6                 en                             I Was a Male War Bride\n",
       "7                 en                                      The War Wagon\n",
       "8                 en       Outfoxed: Rupert Murdoch's War on Journalism\n",
       "9                 en                                     The War Within\n",
       "10                en                  Iraq for Sale: The War Profiteers\n",
       "11                en                                      The War Tapes\n",
       "12                en                               The War on Democracy\n",
       "13                en                                       The War Lord\n",
       "14                en                                 Punisher: War Zone\n",
       "15                en                         Dallas - War of The Ewings\n",
       "16                en                      H.G. Wells' War of the Worlds\n",
       "17                en                 Why We Fight: War Comes to America\n",
       "18                en                                       The War Game\n",
       "19                en                        The Art of War II: Betrayal\n",
       "20                en                    The Private War of Major Benson\n",
       "21                en                       Tomorrow, When the War Began\n",
       "22                en  Jean Renoir: Part One - From La Belle Époque t...\n",
       "23                en                              The War You Don't See\n",
       "24                en                                        World War Z\n",
       "25                en                    World War II: When Lions Roared\n",
       "26                en                      The War Between Men and Women\n",
       "27                en                    The Art of War III: Retribution\n",
       "28                en  Breaking the Silence: Truth and Lies in the Wa...\n",
       "29                en      Unborn in the USA: Inside the War on Abortion\n",
       "30                en                                       The War Boys\n",
       "31                en                                    The War at Home\n",
       "32                en           Suppose They Gave a War and Nobody Came?\n",
       "33                en                                Flight World War II\n",
       "34                en                        Iliza Shlesinger: War Paint\n",
       "35                en                  Merlin and the War of the Dragons\n",
       "36                en                Arthur 3: The War of the Two Worlds\n",
       "37                en                         The Return of the War Room\n",
       "38                en    Obsession: Radical Islam's War Against the West\n",
       "39                en                        The War Against Mrs. Hadley\n",
       "40                en           The Oil Factor: Behind the War on Terror\n",
       "41                en                  The Great Martian War 1913 - 1917\n",
       "42                en                            The Coming War on China"
      ],
      "text/html": "<div>\n<style scoped>\n    .dataframe tbody tr th:only-of-type {\n        vertical-align: middle;\n    }\n\n    .dataframe tbody tr th {\n        vertical-align: top;\n    }\n\n    .dataframe thead th {\n        text-align: right;\n    }\n</style>\n<table border=\"1\" class=\"dataframe\">\n  <thead>\n    <tr style=\"text-align: right;\">\n      <th></th>\n      <th>original_language</th>\n      <th>title</th>\n    </tr>\n  </thead>\n  <tbody>\n    <tr>\n      <th>0</th>\n      <td>en</td>\n      <td>The War Room</td>\n    </tr>\n    <tr>\n      <th>1</th>\n      <td>en</td>\n      <td>The War at Home</td>\n    </tr>\n    <tr>\n      <th>2</th>\n      <td>en</td>\n      <td>The War of the Worlds</td>\n    </tr>\n    <tr>\n      <th>3</th>\n      <td>en</td>\n      <td>The War Zone</td>\n    </tr>\n    <tr>\n      <th>4</th>\n      <td>en</td>\n      <td>The War of the Roses</td>\n    </tr>\n    <tr>\n      <th>5</th>\n      <td>en</td>\n      <td>At War with the Army</td>\n    </tr>\n    <tr>\n      <th>6</th>\n      <td>en</td>\n      <td>I Was a Male War Bride</td>\n    </tr>\n    <tr>\n      <th>7</th>\n      <td>en</td>\n      <td>The War Wagon</td>\n    </tr>\n    <tr>\n      <th>8</th>\n      <td>en</td>\n      <td>Outfoxed: Rupert Murdoch's War on Journalism</td>\n    </tr>\n    <tr>\n      <th>9</th>\n      <td>en</td>\n      <td>The War Within</td>\n    </tr>\n    <tr>\n      <th>10</th>\n      <td>en</td>\n      <td>Iraq for Sale: The War Profiteers</td>\n    </tr>\n    <tr>\n      <th>11</th>\n      <td>en</td>\n      <td>The War Tapes</td>\n    </tr>\n    <tr>\n      <th>12</th>\n      <td>en</td>\n      <td>The War on Democracy</td>\n    </tr>\n    <tr>\n      <th>13</th>\n      <td>en</td>\n      <td>The War Lord</td>\n    </tr>\n    <tr>\n      <th>14</th>\n      <td>en</td>\n      <td>Punisher: War Zone</td>\n    </tr>\n    <tr>\n      <th>15</th>\n      <td>en</td>\n      <td>Dallas - War of The Ewings</td>\n    </tr>\n    <tr>\n      <th>16</th>\n      <td>en</td>\n      <td>H.G. Wells' War of the Worlds</td>\n    </tr>\n    <tr>\n      <th>17</th>\n      <td>en</td>\n      <td>Why We Fight: War Comes to America</td>\n    </tr>\n    <tr>\n      <th>18</th>\n      <td>en</td>\n      <td>The War Game</td>\n    </tr>\n    <tr>\n      <th>19</th>\n      <td>en</td>\n      <td>The Art of War II: Betrayal</td>\n    </tr>\n    <tr>\n      <th>20</th>\n      <td>en</td>\n      <td>The Private War of Major Benson</td>\n    </tr>\n    <tr>\n      <th>21</th>\n      <td>en</td>\n      <td>Tomorrow, When the War Began</td>\n    </tr>\n    <tr>\n      <th>22</th>\n      <td>en</td>\n      <td>Jean Renoir: Part One - From La Belle Époque t...</td>\n    </tr>\n    <tr>\n      <th>23</th>\n      <td>en</td>\n      <td>The War You Don't See</td>\n    </tr>\n    <tr>\n      <th>24</th>\n      <td>en</td>\n      <td>World War Z</td>\n    </tr>\n    <tr>\n      <th>25</th>\n      <td>en</td>\n      <td>World War II: When Lions Roared</td>\n    </tr>\n    <tr>\n      <th>26</th>\n      <td>en</td>\n      <td>The War Between Men and Women</td>\n    </tr>\n    <tr>\n      <th>27</th>\n      <td>en</td>\n      <td>The Art of War III: Retribution</td>\n    </tr>\n    <tr>\n      <th>28</th>\n      <td>en</td>\n      <td>Breaking the Silence: Truth and Lies in the Wa...</td>\n    </tr>\n    <tr>\n      <th>29</th>\n      <td>en</td>\n      <td>Unborn in the USA: Inside the War on Abortion</td>\n    </tr>\n    <tr>\n      <th>30</th>\n      <td>en</td>\n      <td>The War Boys</td>\n    </tr>\n    <tr>\n      <th>31</th>\n      <td>en</td>\n      <td>The War at Home</td>\n    </tr>\n    <tr>\n      <th>32</th>\n      <td>en</td>\n      <td>Suppose They Gave a War and Nobody Came?</td>\n    </tr>\n    <tr>\n      <th>33</th>\n      <td>en</td>\n      <td>Flight World War II</td>\n    </tr>\n    <tr>\n      <th>34</th>\n      <td>en</td>\n      <td>Iliza Shlesinger: War Paint</td>\n    </tr>\n    <tr>\n      <th>35</th>\n      <td>en</td>\n      <td>Merlin and the War of the Dragons</td>\n    </tr>\n    <tr>\n      <th>36</th>\n      <td>en</td>\n      <td>Arthur 3: The War of the Two Worlds</td>\n    </tr>\n    <tr>\n      <th>37</th>\n      <td>en</td>\n      <td>The Return of the War Room</td>\n    </tr>\n    <tr>\n      <th>38</th>\n      <td>en</td>\n      <td>Obsession: Radical Islam's War Against the West</td>\n    </tr>\n    <tr>\n      <th>39</th>\n      <td>en</td>\n      <td>The War Against Mrs. Hadley</td>\n    </tr>\n    <tr>\n      <th>40</th>\n      <td>en</td>\n      <td>The Oil Factor: Behind the War on Terror</td>\n    </tr>\n    <tr>\n      <th>41</th>\n      <td>en</td>\n      <td>The Great Martian War 1913 - 1917</td>\n    </tr>\n    <tr>\n      <th>42</th>\n      <td>en</td>\n      <td>The Coming War on China</td>\n    </tr>\n  </tbody>\n</table>\n</div>"
     },
     "metadata": {},
     "execution_count": 180
    }
   ],
   "source": [
    "q2 = pd.read_sql_query(\n",
    "\"\"\"\n",
    "SELECT \n",
    "    original_language,\n",
    "    title\n",
    "\n",
    "FROM metadata\n",
    "\n",
    "WHERE original_language = 'en'\n",
    "    and title LIKE '% war %'\n",
    "\"\"\", \n",
    "    con=conn\n",
    ")\n",
    "q2"
   ]
  },
  {
   "source": [
    "# 1.2.3"
   ],
   "cell_type": "markdown",
   "metadata": {}
  },
  {
   "cell_type": "code",
   "execution_count": 199,
   "metadata": {},
   "outputs": [
    {
     "output_type": "execute_result",
     "data": {
      "text/plain": [
       "         budget  rating\n",
       "0      60000000     5.0\n",
       "1      60000000     5.0\n",
       "2      98000000     5.0\n",
       "3      98000000     5.0\n",
       "4      98000000     5.0\n",
       "...         ...     ...\n",
       "87621         0     NaN\n",
       "87622         0     NaN\n",
       "87623         0     NaN\n",
       "87624         0     NaN\n",
       "87625         0     NaN\n",
       "\n",
       "[87626 rows x 2 columns]"
      ],
      "text/html": "<div>\n<style scoped>\n    .dataframe tbody tr th:only-of-type {\n        vertical-align: middle;\n    }\n\n    .dataframe tbody tr th {\n        vertical-align: top;\n    }\n\n    .dataframe thead th {\n        text-align: right;\n    }\n</style>\n<table border=\"1\" class=\"dataframe\">\n  <thead>\n    <tr style=\"text-align: right;\">\n      <th></th>\n      <th>budget</th>\n      <th>rating</th>\n    </tr>\n  </thead>\n  <tbody>\n    <tr>\n      <th>0</th>\n      <td>60000000</td>\n      <td>5.0</td>\n    </tr>\n    <tr>\n      <th>1</th>\n      <td>60000000</td>\n      <td>5.0</td>\n    </tr>\n    <tr>\n      <th>2</th>\n      <td>98000000</td>\n      <td>5.0</td>\n    </tr>\n    <tr>\n      <th>3</th>\n      <td>98000000</td>\n      <td>5.0</td>\n    </tr>\n    <tr>\n      <th>4</th>\n      <td>98000000</td>\n      <td>5.0</td>\n    </tr>\n    <tr>\n      <th>...</th>\n      <td>...</td>\n      <td>...</td>\n    </tr>\n    <tr>\n      <th>87621</th>\n      <td>0</td>\n      <td>NaN</td>\n    </tr>\n    <tr>\n      <th>87622</th>\n      <td>0</td>\n      <td>NaN</td>\n    </tr>\n    <tr>\n      <th>87623</th>\n      <td>0</td>\n      <td>NaN</td>\n    </tr>\n    <tr>\n      <th>87624</th>\n      <td>0</td>\n      <td>NaN</td>\n    </tr>\n    <tr>\n      <th>87625</th>\n      <td>0</td>\n      <td>NaN</td>\n    </tr>\n  </tbody>\n</table>\n<p>87626 rows × 2 columns</p>\n</div>"
     },
     "metadata": {},
     "execution_count": 199
    }
   ],
   "source": [
    "q3 = pd.read_sql_query(\n",
    "\"\"\"\n",
    "SELECT\n",
    "    budget,\n",
    "    rating_s.rating\n",
    "\n",
    "FROM metadata\n",
    "\n",
    "LEFT JOIN rating_s ON\n",
    "    metadata.id = rating_s.movieId\n",
    "\n",
    "ORDER BY rating_s.rating DESC\n",
    "    \n",
    "\"\"\", con=conn)\n",
    "\n",
    "q3"
   ]
  },
  {
   "cell_type": "code",
   "execution_count": 186,
   "metadata": {},
   "outputs": [
    {
     "output_type": "execute_result",
     "data": {
      "text/plain": [
       "    userId  movieId  rating   timestamp\n",
       "0        1       31     2.5  1260759144\n",
       "1        1     1029     3.0  1260759179\n",
       "2        1     1061     3.0  1260759182\n",
       "3        1     1129     2.0  1260759185\n",
       "4        1     1172     4.0  1260759205\n",
       "5        1     1263     2.0  1260759151\n",
       "6        1     1287     2.0  1260759187\n",
       "7        1     1293     2.0  1260759148\n",
       "8        1     1339     3.5  1260759125\n",
       "9        1     1343     2.0  1260759131\n",
       "10       1     1371     2.5  1260759135\n",
       "11       1     1405     1.0  1260759203\n",
       "12       1     1953     4.0  1260759191\n",
       "13       1     2105     4.0  1260759139\n",
       "14       1     2150     3.0  1260759194\n",
       "15       1     2193     2.0  1260759198\n",
       "16       1     2294     2.0  1260759108\n",
       "17       1     2455     2.5  1260759113\n",
       "18       1     2968     1.0  1260759200\n",
       "19       1     3671     3.0  1260759117\n",
       "20       2       10     4.0   835355493\n",
       "21       2       17     5.0   835355681\n",
       "22       2       39     5.0   835355604\n",
       "23       2       47     4.0   835355552\n",
       "24       2       50     4.0   835355586\n",
       "25       2       52     3.0   835356031\n",
       "26       2       62     3.0   835355749\n",
       "27       2      110     4.0   835355532\n",
       "28       2      144     3.0   835356016\n",
       "29       2      150     5.0   835355395\n",
       "30       2      153     4.0   835355441\n",
       "31       2      161     3.0   835355493\n",
       "32       2      165     3.0   835355441\n",
       "33       2      168     3.0   835355710\n",
       "34       2      185     3.0   835355511\n",
       "35       2      186     3.0   835355664\n",
       "36       2      208     3.0   835355511\n",
       "37       2      222     5.0   835355840\n",
       "38       2      223     1.0   835355749\n",
       "39       2      225     3.0   835355552\n",
       "40       2      235     3.0   835355664\n",
       "41       2      248     3.0   835355896\n",
       "42       2      253     4.0   835355511\n",
       "43       2      261     4.0   835355681\n",
       "44       2      265     5.0   835355697\n",
       "45       2      266     5.0   835355586\n",
       "46       2      272     3.0   835355767\n",
       "47       2      273     4.0   835355779\n",
       "48       2      292     3.0   835355492\n",
       "49       2      296     4.0   835355395"
      ],
      "text/html": "<div>\n<style scoped>\n    .dataframe tbody tr th:only-of-type {\n        vertical-align: middle;\n    }\n\n    .dataframe tbody tr th {\n        vertical-align: top;\n    }\n\n    .dataframe thead th {\n        text-align: right;\n    }\n</style>\n<table border=\"1\" class=\"dataframe\">\n  <thead>\n    <tr style=\"text-align: right;\">\n      <th></th>\n      <th>userId</th>\n      <th>movieId</th>\n      <th>rating</th>\n      <th>timestamp</th>\n    </tr>\n  </thead>\n  <tbody>\n    <tr>\n      <th>0</th>\n      <td>1</td>\n      <td>31</td>\n      <td>2.5</td>\n      <td>1260759144</td>\n    </tr>\n    <tr>\n      <th>1</th>\n      <td>1</td>\n      <td>1029</td>\n      <td>3.0</td>\n      <td>1260759179</td>\n    </tr>\n    <tr>\n      <th>2</th>\n      <td>1</td>\n      <td>1061</td>\n      <td>3.0</td>\n      <td>1260759182</td>\n    </tr>\n    <tr>\n      <th>3</th>\n      <td>1</td>\n      <td>1129</td>\n      <td>2.0</td>\n      <td>1260759185</td>\n    </tr>\n    <tr>\n      <th>4</th>\n      <td>1</td>\n      <td>1172</td>\n      <td>4.0</td>\n      <td>1260759205</td>\n    </tr>\n    <tr>\n      <th>5</th>\n      <td>1</td>\n      <td>1263</td>\n      <td>2.0</td>\n      <td>1260759151</td>\n    </tr>\n    <tr>\n      <th>6</th>\n      <td>1</td>\n      <td>1287</td>\n      <td>2.0</td>\n      <td>1260759187</td>\n    </tr>\n    <tr>\n      <th>7</th>\n      <td>1</td>\n      <td>1293</td>\n      <td>2.0</td>\n      <td>1260759148</td>\n    </tr>\n    <tr>\n      <th>8</th>\n      <td>1</td>\n      <td>1339</td>\n      <td>3.5</td>\n      <td>1260759125</td>\n    </tr>\n    <tr>\n      <th>9</th>\n      <td>1</td>\n      <td>1343</td>\n      <td>2.0</td>\n      <td>1260759131</td>\n    </tr>\n    <tr>\n      <th>10</th>\n      <td>1</td>\n      <td>1371</td>\n      <td>2.5</td>\n      <td>1260759135</td>\n    </tr>\n    <tr>\n      <th>11</th>\n      <td>1</td>\n      <td>1405</td>\n      <td>1.0</td>\n      <td>1260759203</td>\n    </tr>\n    <tr>\n      <th>12</th>\n      <td>1</td>\n      <td>1953</td>\n      <td>4.0</td>\n      <td>1260759191</td>\n    </tr>\n    <tr>\n      <th>13</th>\n      <td>1</td>\n      <td>2105</td>\n      <td>4.0</td>\n      <td>1260759139</td>\n    </tr>\n    <tr>\n      <th>14</th>\n      <td>1</td>\n      <td>2150</td>\n      <td>3.0</td>\n      <td>1260759194</td>\n    </tr>\n    <tr>\n      <th>15</th>\n      <td>1</td>\n      <td>2193</td>\n      <td>2.0</td>\n      <td>1260759198</td>\n    </tr>\n    <tr>\n      <th>16</th>\n      <td>1</td>\n      <td>2294</td>\n      <td>2.0</td>\n      <td>1260759108</td>\n    </tr>\n    <tr>\n      <th>17</th>\n      <td>1</td>\n      <td>2455</td>\n      <td>2.5</td>\n      <td>1260759113</td>\n    </tr>\n    <tr>\n      <th>18</th>\n      <td>1</td>\n      <td>2968</td>\n      <td>1.0</td>\n      <td>1260759200</td>\n    </tr>\n    <tr>\n      <th>19</th>\n      <td>1</td>\n      <td>3671</td>\n      <td>3.0</td>\n      <td>1260759117</td>\n    </tr>\n    <tr>\n      <th>20</th>\n      <td>2</td>\n      <td>10</td>\n      <td>4.0</td>\n      <td>835355493</td>\n    </tr>\n    <tr>\n      <th>21</th>\n      <td>2</td>\n      <td>17</td>\n      <td>5.0</td>\n      <td>835355681</td>\n    </tr>\n    <tr>\n      <th>22</th>\n      <td>2</td>\n      <td>39</td>\n      <td>5.0</td>\n      <td>835355604</td>\n    </tr>\n    <tr>\n      <th>23</th>\n      <td>2</td>\n      <td>47</td>\n      <td>4.0</td>\n      <td>835355552</td>\n    </tr>\n    <tr>\n      <th>24</th>\n      <td>2</td>\n      <td>50</td>\n      <td>4.0</td>\n      <td>835355586</td>\n    </tr>\n    <tr>\n      <th>25</th>\n      <td>2</td>\n      <td>52</td>\n      <td>3.0</td>\n      <td>835356031</td>\n    </tr>\n    <tr>\n      <th>26</th>\n      <td>2</td>\n      <td>62</td>\n      <td>3.0</td>\n      <td>835355749</td>\n    </tr>\n    <tr>\n      <th>27</th>\n      <td>2</td>\n      <td>110</td>\n      <td>4.0</td>\n      <td>835355532</td>\n    </tr>\n    <tr>\n      <th>28</th>\n      <td>2</td>\n      <td>144</td>\n      <td>3.0</td>\n      <td>835356016</td>\n    </tr>\n    <tr>\n      <th>29</th>\n      <td>2</td>\n      <td>150</td>\n      <td>5.0</td>\n      <td>835355395</td>\n    </tr>\n    <tr>\n      <th>30</th>\n      <td>2</td>\n      <td>153</td>\n      <td>4.0</td>\n      <td>835355441</td>\n    </tr>\n    <tr>\n      <th>31</th>\n      <td>2</td>\n      <td>161</td>\n      <td>3.0</td>\n      <td>835355493</td>\n    </tr>\n    <tr>\n      <th>32</th>\n      <td>2</td>\n      <td>165</td>\n      <td>3.0</td>\n      <td>835355441</td>\n    </tr>\n    <tr>\n      <th>33</th>\n      <td>2</td>\n      <td>168</td>\n      <td>3.0</td>\n      <td>835355710</td>\n    </tr>\n    <tr>\n      <th>34</th>\n      <td>2</td>\n      <td>185</td>\n      <td>3.0</td>\n      <td>835355511</td>\n    </tr>\n    <tr>\n      <th>35</th>\n      <td>2</td>\n      <td>186</td>\n      <td>3.0</td>\n      <td>835355664</td>\n    </tr>\n    <tr>\n      <th>36</th>\n      <td>2</td>\n      <td>208</td>\n      <td>3.0</td>\n      <td>835355511</td>\n    </tr>\n    <tr>\n      <th>37</th>\n      <td>2</td>\n      <td>222</td>\n      <td>5.0</td>\n      <td>835355840</td>\n    </tr>\n    <tr>\n      <th>38</th>\n      <td>2</td>\n      <td>223</td>\n      <td>1.0</td>\n      <td>835355749</td>\n    </tr>\n    <tr>\n      <th>39</th>\n      <td>2</td>\n      <td>225</td>\n      <td>3.0</td>\n      <td>835355552</td>\n    </tr>\n    <tr>\n      <th>40</th>\n      <td>2</td>\n      <td>235</td>\n      <td>3.0</td>\n      <td>835355664</td>\n    </tr>\n    <tr>\n      <th>41</th>\n      <td>2</td>\n      <td>248</td>\n      <td>3.0</td>\n      <td>835355896</td>\n    </tr>\n    <tr>\n      <th>42</th>\n      <td>2</td>\n      <td>253</td>\n      <td>4.0</td>\n      <td>835355511</td>\n    </tr>\n    <tr>\n      <th>43</th>\n      <td>2</td>\n      <td>261</td>\n      <td>4.0</td>\n      <td>835355681</td>\n    </tr>\n    <tr>\n      <th>44</th>\n      <td>2</td>\n      <td>265</td>\n      <td>5.0</td>\n      <td>835355697</td>\n    </tr>\n    <tr>\n      <th>45</th>\n      <td>2</td>\n      <td>266</td>\n      <td>5.0</td>\n      <td>835355586</td>\n    </tr>\n    <tr>\n      <th>46</th>\n      <td>2</td>\n      <td>272</td>\n      <td>3.0</td>\n      <td>835355767</td>\n    </tr>\n    <tr>\n      <th>47</th>\n      <td>2</td>\n      <td>273</td>\n      <td>4.0</td>\n      <td>835355779</td>\n    </tr>\n    <tr>\n      <th>48</th>\n      <td>2</td>\n      <td>292</td>\n      <td>3.0</td>\n      <td>835355492</td>\n    </tr>\n    <tr>\n      <th>49</th>\n      <td>2</td>\n      <td>296</td>\n      <td>4.0</td>\n      <td>835355395</td>\n    </tr>\n  </tbody>\n</table>\n</div>"
     },
     "metadata": {},
     "execution_count": 186
    }
   ],
   "source": [
    "tee = pd.read_csv(\"/Users/kalebmckenzie/Documents/GitHub/4-1-sql/ratings_small.csv\")\n",
    "tee.head(50)"
   ]
  },
  {
   "cell_type": "markdown",
   "metadata": {},
   "source": [
    "# 2. Baseball Database\n",
    "\n",
    "The [Baseball Database](http://www.seanlahman.com/baseball-archive/statistics/) has an sqlite version. Download it for these exercises.\n",
    "\n",
    "**2.1** Which player has had the most homeruns?\n",
    "\n",
    "**2.2** Is there a relation between how many homeruns a player has made in a year and his salary that year? Pull both colums together in a single query\n",
    "\n"
   ]
  },
  {
   "cell_type": "code",
   "execution_count": 98,
   "metadata": {},
   "outputs": [],
   "source": [
    "baseball = sqlite3.connect('/Users/kalebmckenzie/Documents/GitHub/4-1-sql/lahmansbaseballdb.sqlite')\n",
    "b = baseball.cursor()\n"
   ]
  },
  {
   "cell_type": "code",
   "execution_count": 99,
   "metadata": {},
   "outputs": [],
   "source": [
    "#Just so I can view the tables in the db\n",
    "\n",
    "def tables_in_sqlite_dbb(baseball):\n",
    "    cursor = baseball.execute(\"SELECT name FROM sqlite_master WHERE type='table';\")\n",
    "    tablesb = [\n",
    "        v[0] for v in cursor.fetchall()\n",
    "        if v[0] != \"sqlite_sequence\"\n",
    "    ]\n",
    "    cursor.close()\n",
    "    return tablesb"
   ]
  },
  {
   "cell_type": "code",
   "execution_count": 100,
   "metadata": {},
   "outputs": [
    {
     "output_type": "execute_result",
     "data": {
      "text/plain": [
       "['allstarfull',\n",
       " 'appearances',\n",
       " 'awardsmanagers',\n",
       " 'awardsplayers',\n",
       " 'awardssharemanagers',\n",
       " 'awardsshareplayers',\n",
       " 'batting',\n",
       " 'battingpost',\n",
       " 'collegeplaying',\n",
       " 'divisions',\n",
       " 'fielding',\n",
       " 'fieldingof',\n",
       " 'fieldingofsplit',\n",
       " 'fieldingpost',\n",
       " 'halloffame',\n",
       " 'homegames',\n",
       " 'leagues',\n",
       " 'managers',\n",
       " 'managershalf',\n",
       " 'parks',\n",
       " 'people',\n",
       " 'pitching',\n",
       " 'pitchingpost',\n",
       " 'salaries',\n",
       " 'schools',\n",
       " 'seriespost',\n",
       " 'teams',\n",
       " 'teamsfranchises',\n",
       " 'teamshalf']"
      ]
     },
     "metadata": {},
     "execution_count": 100
    }
   ],
   "source": [
    "baseb_tables = tables_in_sqlite_dbb(baseball)\n",
    "baseb_tables"
   ]
  },
  {
   "source": [
    "# 2.1"
   ],
   "cell_type": "markdown",
   "metadata": {}
  },
  {
   "cell_type": "code",
   "execution_count": 101,
   "metadata": {},
   "outputs": [
    {
     "output_type": "execute_result",
     "data": {
      "text/plain": [
       "         playerID  HR\n",
       "0       bondsba01  73\n",
       "1       mcgwima01  70\n",
       "2        sosasa01  66\n",
       "3       mcgwima01  65\n",
       "4        sosasa01  64\n",
       "...           ...  ..\n",
       "107424  zavalse01   0\n",
       "107425  zeuchtj01   0\n",
       "107426  zimmebr01   0\n",
       "107427  zimmejo02   0\n",
       "107428  zimmeky01   0\n",
       "\n",
       "[107429 rows x 2 columns]"
      ],
      "text/html": "<div>\n<style scoped>\n    .dataframe tbody tr th:only-of-type {\n        vertical-align: middle;\n    }\n\n    .dataframe tbody tr th {\n        vertical-align: top;\n    }\n\n    .dataframe thead th {\n        text-align: right;\n    }\n</style>\n<table border=\"1\" class=\"dataframe\">\n  <thead>\n    <tr style=\"text-align: right;\">\n      <th></th>\n      <th>playerID</th>\n      <th>HR</th>\n    </tr>\n  </thead>\n  <tbody>\n    <tr>\n      <th>0</th>\n      <td>bondsba01</td>\n      <td>73</td>\n    </tr>\n    <tr>\n      <th>1</th>\n      <td>mcgwima01</td>\n      <td>70</td>\n    </tr>\n    <tr>\n      <th>2</th>\n      <td>sosasa01</td>\n      <td>66</td>\n    </tr>\n    <tr>\n      <th>3</th>\n      <td>mcgwima01</td>\n      <td>65</td>\n    </tr>\n    <tr>\n      <th>4</th>\n      <td>sosasa01</td>\n      <td>64</td>\n    </tr>\n    <tr>\n      <th>...</th>\n      <td>...</td>\n      <td>...</td>\n    </tr>\n    <tr>\n      <th>107424</th>\n      <td>zavalse01</td>\n      <td>0</td>\n    </tr>\n    <tr>\n      <th>107425</th>\n      <td>zeuchtj01</td>\n      <td>0</td>\n    </tr>\n    <tr>\n      <th>107426</th>\n      <td>zimmebr01</td>\n      <td>0</td>\n    </tr>\n    <tr>\n      <th>107427</th>\n      <td>zimmejo02</td>\n      <td>0</td>\n    </tr>\n    <tr>\n      <th>107428</th>\n      <td>zimmeky01</td>\n      <td>0</td>\n    </tr>\n  </tbody>\n</table>\n<p>107429 rows × 2 columns</p>\n</div>"
     },
     "metadata": {},
     "execution_count": 101
    }
   ],
   "source": [
    "b1 = pd.read_sql_query(\n",
    "\"\"\"\n",
    "SELECT  \n",
    "    playerID, \n",
    "    HR\n",
    "\n",
    "FROM batting\n",
    "\n",
    "ORDER BY HR DESC\n",
    "\"\"\", \n",
    "    con=baseball\n",
    ")\n",
    "b1\n",
    "\n",
    "#Player Bondsba01 had the most homeruns"
   ]
  },
  {
   "source": [
    "# 2.2 "
   ],
   "cell_type": "markdown",
   "metadata": {}
  },
  {
   "cell_type": "code",
   "execution_count": 196,
   "metadata": {},
   "outputs": [
    {
     "output_type": "execute_result",
     "data": {
      "text/plain": [
       "          HR      salary\n",
       "0         73   4500000.0\n",
       "1         73    270000.0\n",
       "2         73    320000.0\n",
       "3         73    200000.0\n",
       "4         73   3450000.0\n",
       "...       ..         ...\n",
       "33740326   0  10400000.0\n",
       "33740327   0    524000.0\n",
       "33740328   0    524900.0\n",
       "33740329   0  21733615.0\n",
       "33740330   0  14000000.0\n",
       "\n",
       "[33740331 rows x 2 columns]"
      ],
      "text/html": "<div>\n<style scoped>\n    .dataframe tbody tr th:only-of-type {\n        vertical-align: middle;\n    }\n\n    .dataframe tbody tr th {\n        vertical-align: top;\n    }\n\n    .dataframe thead th {\n        text-align: right;\n    }\n</style>\n<table border=\"1\" class=\"dataframe\">\n  <thead>\n    <tr style=\"text-align: right;\">\n      <th></th>\n      <th>HR</th>\n      <th>salary</th>\n    </tr>\n  </thead>\n  <tbody>\n    <tr>\n      <th>0</th>\n      <td>73</td>\n      <td>4500000.0</td>\n    </tr>\n    <tr>\n      <th>1</th>\n      <td>73</td>\n      <td>270000.0</td>\n    </tr>\n    <tr>\n      <th>2</th>\n      <td>73</td>\n      <td>320000.0</td>\n    </tr>\n    <tr>\n      <th>3</th>\n      <td>73</td>\n      <td>200000.0</td>\n    </tr>\n    <tr>\n      <th>4</th>\n      <td>73</td>\n      <td>3450000.0</td>\n    </tr>\n    <tr>\n      <th>...</th>\n      <td>...</td>\n      <td>...</td>\n    </tr>\n    <tr>\n      <th>33740326</th>\n      <td>0</td>\n      <td>10400000.0</td>\n    </tr>\n    <tr>\n      <th>33740327</th>\n      <td>0</td>\n      <td>524000.0</td>\n    </tr>\n    <tr>\n      <th>33740328</th>\n      <td>0</td>\n      <td>524900.0</td>\n    </tr>\n    <tr>\n      <th>33740329</th>\n      <td>0</td>\n      <td>21733615.0</td>\n    </tr>\n    <tr>\n      <th>33740330</th>\n      <td>0</td>\n      <td>14000000.0</td>\n    </tr>\n  </tbody>\n</table>\n<p>33740331 rows × 2 columns</p>\n</div>"
     },
     "metadata": {},
     "execution_count": 196
    }
   ],
   "source": [
    "b2 = pd.read_sql_query(\n",
    "\"\"\"\n",
    "SELECT \n",
    "    HR,\n",
    "    salary\n",
    "\n",
    "FROM batting\n",
    "\n",
    "INNER JOIN salaries ON\n",
    "    batting.yearID = salaries.yearID\n",
    "\n",
    "ORDER BY HR DESC\n",
    "\n",
    "\"\"\", con=baseball)\n",
    "\n",
    "b2"
   ]
  }
 ]
}
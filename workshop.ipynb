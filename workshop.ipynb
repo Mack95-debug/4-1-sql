{
 "nbformat": 4,
 "nbformat_minor": 2,
 "metadata": {
  "language_info": {
   "name": "python",
   "codemirror_mode": {
    "name": "ipython",
    "version": 3
   },
   "version": "3.7.6-final"
  },
  "orig_nbformat": 2,
  "file_extension": ".py",
  "mimetype": "text/x-python",
  "name": "python",
  "npconvert_exporter": "python",
  "pygments_lexer": "ipython3",
  "version": 3,
  "kernelspec": {
   "name": "python3",
   "display_name": "Python 3",
   "language": "python"
  }
 },
 "cells": [
  {
   "cell_type": "markdown",
   "metadata": {},
   "source": [
    "# 1.1 Movies Database\n",
    "\n",
    "Take the movies dataset and turn it into a single `sqlite` database. It should have one table for each csv file in the movies dataset"
   ]
  },
  {
   "cell_type": "code",
   "execution_count": 82,
   "metadata": {},
   "outputs": [],
   "source": [
    "import sqlite3 \n",
    "import pandas as pd "
   ]
  },
  {
   "cell_type": "code",
   "execution_count": null,
   "metadata": {},
   "outputs": [],
   "source": [
    "# Cleaing up the budget column. its filled with nonsense\n",
    "# I need it clean to get an accurate count for question 1.2.1"
   ]
  },
  {
   "cell_type": "code",
   "execution_count": 201,
   "metadata": {},
   "outputs": [],
   "source": [
    "df = pd.read_csv(\"/Users/kalebmckenzie/Documents/GitHub/4-1-sql/movies_metadata.csv\")"
   ]
  },
  {
   "cell_type": "code",
   "execution_count": 156,
   "metadata": {},
   "outputs": [],
   "source": [
    "#cleaing up the budget col so its easier to work with\n",
    "ran_bud = df[df['budget'] == '/ff9qCepilowshEtG2GYWwzt2bs4.jpg'].index\n",
    "ran_bud2 = df[df['budget'] == '/zV8bHuSL6WXoD6FWogP9j4x80bL.jpg'].index\n",
    "ran_bud3 = df[df['budget'] == '/zaSf5OG7V8X8gqFvly88zDdRm46.jpg'].index\n",
    "\n",
    "df.drop(ran_bud, inplace = True)\n",
    "df.drop(ran_bud2, inplace = True)\n",
    "df.drop(ran_bud3, inplace = True)\n",
    "\n",
    "df['budget'] = df['budget'].astype(int)"
   ]
  },
  {
   "cell_type": "code",
   "execution_count": 157,
   "metadata": {},
   "outputs": [],
   "source": [
    "df.to_csv('new_movies.csv')"
   ]
  },
  {
   "cell_type": "code",
   "execution_count": 83,
   "metadata": {},
   "outputs": [],
   "source": [
    "conn = sqlite3.connect('movie.db')\n",
    "c = conn.cursor()"
   ]
  },
  {
   "cell_type": "code",
   "execution_count": 107,
   "metadata": {},
   "outputs": [],
   "source": [
    "credits = pd.read_csv('/Users/kalebmckenzie/Documents/GitHub/4-1-sql/credits.csv')\n",
    "credits.to_sql('credits', conn, if_exists='replace', index = False)"
   ]
  },
  {
   "cell_type": "code",
   "execution_count": 108,
   "metadata": {},
   "outputs": [],
   "source": [
    "keywords = pd.read_csv('/Users/kalebmckenzie/Documents/GitHub/4-1-sql/keywords.csv')\n",
    "keywords.to_sql('keywords', conn, if_exists='replace', index = False)"
   ]
  },
  {
   "cell_type": "code",
   "execution_count": 109,
   "metadata": {},
   "outputs": [],
   "source": [
    "link_s = pd.read_csv('/Users/kalebmckenzie/Documents/GitHub/4-1-sql/links_small.csv')\n",
    "link_s.to_sql('link_s', conn, if_exists='replace', index = False)"
   ]
  },
  {
   "cell_type": "code",
   "execution_count": 110,
   "metadata": {},
   "outputs": [],
   "source": [
    "links = pd.read_csv('/Users/kalebmckenzie/Documents/GitHub/4-1-sql/links.csv')\n",
    "links.to_sql('links', conn, if_exists='replace', index = False)"
   ]
  },
  {
   "cell_type": "code",
   "execution_count": 158,
   "metadata": {},
   "outputs": [],
   "source": [
    "metadata = pd.read_csv('/Users/kalebmckenzie/Documents/GitHub/4-1-sql/new_movies.csv')\n",
    "metadata.to_sql('metadata', conn, if_exists='replace', index = False)"
   ]
  },
  {
   "cell_type": "code",
   "execution_count": 112,
   "metadata": {},
   "outputs": [],
   "source": [
    "rating_s = pd.read_csv('/Users/kalebmckenzie/Documents/GitHub/4-1-sql/ratings_small.csv')\n",
    "rating_s.to_sql('rating_s', conn, if_exists='replace', index = False)"
   ]
  },
  {
   "cell_type": "code",
   "execution_count": 113,
   "metadata": {},
   "outputs": [],
   "source": [
    "ratings = pd.read_csv('/Users/kalebmckenzie/Documents/GitHub/4-1-sql/ratings.csv')\n",
    "ratings.to_sql('ratings', conn, if_exists='replace', index = False)"
   ]
  },
  {
   "cell_type": "code",
   "execution_count": 117,
   "metadata": {},
   "outputs": [],
   "source": [
    "# A view of the tables\n",
    "\n",
    "def tables_in_sqlite_db(conn):\n",
    "    cursor = conn.execute(\"SELECT name FROM sqlite_master WHERE type='table';\")\n",
    "    tables = [\n",
    "        v[0] for v in cursor.fetchall()\n",
    "        if v[0] != \"sqlite_sequence\"\n",
    "    ]\n",
    "    cursor.close()\n",
    "    return tables"
   ]
  },
  {
   "cell_type": "code",
   "execution_count": 118,
   "metadata": {},
   "outputs": [
    {
     "output_type": "execute_result",
     "data": {
      "text/plain": [
       "['credits', 'keywords', 'link_s', 'links', 'rating_s', 'ratings', 'metadata']"
      ]
     },
     "metadata": {},
     "execution_count": 118
    }
   ],
   "source": [
    "movie_tables = tables_in_sqlite_db(conn)\n",
    "movie_tables"
   ]
  },
  {
   "cell_type": "code",
   "execution_count": 202,
   "metadata": {},
   "outputs": [],
   "source": [
    "#p2 = pd.read_sql('select * from metadata', conn)"
   ]
  },
  {
   "cell_type": "markdown",
   "metadata": {},
   "source": [
    "# 1.2 Queries\n",
    "\n",
    "**1.2.1** Use a single query to pull the original title of movies with a budget above $5m\n",
    "\n",
    "**1.2.2** Use a query to pull the english-language films with the word `war` in their title\n",
    "\n",
    "**1.2.3** Left join the average ratings from the `ratings` table onto the `movies_metadata` table, so you can have a relation between budget and rating. Hint: use a subquery."
   ]
  },
  {
   "source": [
    "# 1.2.1"
   ],
   "cell_type": "markdown",
   "metadata": {}
  },
  {
   "cell_type": "code",
   "execution_count": 161,
   "metadata": {},
   "outputs": [
    {
     "output_type": "execute_result",
     "data": {
      "text/plain": [
       "                    original_title    budget\n",
       "0                        Toy Story  30000000\n",
       "1                          Jumanji  65000000\n",
       "2                Waiting to Exhale  16000000\n",
       "3                             Heat  60000000\n",
       "4                          Sabrina  58000000\n",
       "...                            ...       ...\n",
       "5166                       Detroit  34000000\n",
       "5167                        சிவாஜி  12000000\n",
       "5168                       Pattaya   5402000\n",
       "5169  Les Visiteurs: La Révolution  25868826\n",
       "5170     House of the Long Shadows   7500000\n",
       "\n",
       "[5171 rows x 2 columns]"
      ],
      "text/html": "<div>\n<style scoped>\n    .dataframe tbody tr th:only-of-type {\n        vertical-align: middle;\n    }\n\n    .dataframe tbody tr th {\n        vertical-align: top;\n    }\n\n    .dataframe thead th {\n        text-align: right;\n    }\n</style>\n<table border=\"1\" class=\"dataframe\">\n  <thead>\n    <tr style=\"text-align: right;\">\n      <th></th>\n      <th>original_title</th>\n      <th>budget</th>\n    </tr>\n  </thead>\n  <tbody>\n    <tr>\n      <th>0</th>\n      <td>Toy Story</td>\n      <td>30000000</td>\n    </tr>\n    <tr>\n      <th>1</th>\n      <td>Jumanji</td>\n      <td>65000000</td>\n    </tr>\n    <tr>\n      <th>2</th>\n      <td>Waiting to Exhale</td>\n      <td>16000000</td>\n    </tr>\n    <tr>\n      <th>3</th>\n      <td>Heat</td>\n      <td>60000000</td>\n    </tr>\n    <tr>\n      <th>4</th>\n      <td>Sabrina</td>\n      <td>58000000</td>\n    </tr>\n    <tr>\n      <th>...</th>\n      <td>...</td>\n      <td>...</td>\n    </tr>\n    <tr>\n      <th>5166</th>\n      <td>Detroit</td>\n      <td>34000000</td>\n    </tr>\n    <tr>\n      <th>5167</th>\n      <td>சிவாஜி</td>\n      <td>12000000</td>\n    </tr>\n    <tr>\n      <th>5168</th>\n      <td>Pattaya</td>\n      <td>5402000</td>\n    </tr>\n    <tr>\n      <th>5169</th>\n      <td>Les Visiteurs: La Révolution</td>\n      <td>25868826</td>\n    </tr>\n    <tr>\n      <th>5170</th>\n      <td>House of the Long Shadows</td>\n      <td>7500000</td>\n    </tr>\n  </tbody>\n</table>\n<p>5171 rows × 2 columns</p>\n</div>"
     },
     "metadata": {},
     "execution_count": 161
    }
   ],
   "source": [
    "q1 = pd.read_sql_query(\n",
    "\"\"\"\n",
    "SELECT \n",
    "    original_title,\n",
    "    budget\n",
    "\n",
    "FROM metadata\n",
    "\n",
    "WHERE budget > 5000000\n",
    "\n",
    "\"\"\", \n",
    "    con=conn\n",
    ")\n",
    "q1"
   ]
  },
  {
   "source": [
    "# 1.2.2"
   ],
   "cell_type": "markdown",
   "metadata": {}
  },
  {
   "cell_type": "code",
   "execution_count": 180,
   "metadata": {},
   "outputs": [
    {
     "output_type": "execute_result",
     "data": {
      "text/plain": [
       "   original_language                                              title\n",
       "0                 en                                       The War Room\n",
       "1                 en                                    The War at Home\n",
       "2                 en                              The War of the Worlds\n",
       "3                 en                                       The War Zone\n",
       "4                 en                               The War of the Roses\n",
       "5                 en                               At War with the Army\n",
       "6                 en                             I Was a Male War Bride\n",
       "7                 en                                      The War Wagon\n",
       "8                 en       Outfoxed: Rupert Murdoch's War on Journalism\n",
       "9                 en                                     The War Within\n",
       "10                en                  Iraq for Sale: The War Profiteers\n",
       "11                en                                      The War Tapes\n",
       "12                en                               The War on Democracy\n",
       "13                en                                       The War Lord\n",
       "14                en                                 Punisher: War Zone\n",
       "15                en                         Dallas - War of The Ewings\n",
       "16                en                      H.G. Wells' War of the Worlds\n",
       "17                en                 Why We Fight: War Comes to America\n",
       "18                en                                       The War Game\n",
       "19                en                        The Art of War II: Betrayal\n",
       "20                en                    The Private War of Major Benson\n",
       "21                en                       Tomorrow, When the War Began\n",
       "22                en  Jean Renoir: Part One - From La Belle Époque t...\n",
       "23                en                              The War You Don't See\n",
       "24                en                                        World War Z\n",
       "25                en                    World War II: When Lions Roared\n",
       "26                en                      The War Between Men and Women\n",
       "27                en                    The Art of War III: Retribution\n",
       "28                en  Breaking the Silence: Truth and Lies in the Wa...\n",
       "29                en      Unborn in the USA: Inside the War on Abortion\n",
       "30                en                                       The War Boys\n",
       "31                en                                    The War at Home\n",
       "32                en           Suppose They Gave a War and Nobody Came?\n",
       "33                en                                Flight World War II\n",
       "34                en                        Iliza Shlesinger: War Paint\n",
       "35                en                  Merlin and the War of the Dragons\n",
       "36                en                Arthur 3: The War of the Two Worlds\n",
       "37                en                         The Return of the War Room\n",
       "38                en    Obsession: Radical Islam's War Against the West\n",
       "39                en                        The War Against Mrs. Hadley\n",
       "40                en           The Oil Factor: Behind the War on Terror\n",
       "41                en                  The Great Martian War 1913 - 1917\n",
       "42                en                            The Coming War on China"
      ],
      "text/html": "<div>\n<style scoped>\n    .dataframe tbody tr th:only-of-type {\n        vertical-align: middle;\n    }\n\n    .dataframe tbody tr th {\n        vertical-align: top;\n    }\n\n    .dataframe thead th {\n        text-align: right;\n    }\n</style>\n<table border=\"1\" class=\"dataframe\">\n  <thead>\n    <tr style=\"text-align: right;\">\n      <th></th>\n      <th>original_language</th>\n      <th>title</th>\n    </tr>\n  </thead>\n  <tbody>\n    <tr>\n      <th>0</th>\n      <td>en</td>\n      <td>The War Room</td>\n    </tr>\n    <tr>\n      <th>1</th>\n      <td>en</td>\n      <td>The War at Home</td>\n    </tr>\n    <tr>\n      <th>2</th>\n      <td>en</td>\n      <td>The War of the Worlds</td>\n    </tr>\n    <tr>\n      <th>3</th>\n      <td>en</td>\n      <td>The War Zone</td>\n    </tr>\n    <tr>\n      <th>4</th>\n      <td>en</td>\n      <td>The War of the Roses</td>\n    </tr>\n    <tr>\n      <th>5</th>\n      <td>en</td>\n      <td>At War with the Army</td>\n    </tr>\n    <tr>\n      <th>6</th>\n      <td>en</td>\n      <td>I Was a Male War Bride</td>\n    </tr>\n    <tr>\n      <th>7</th>\n      <td>en</td>\n      <td>The War Wagon</td>\n    </tr>\n    <tr>\n      <th>8</th>\n      <td>en</td>\n      <td>Outfoxed: Rupert Murdoch's War on Journalism</td>\n    </tr>\n    <tr>\n      <th>9</th>\n      <td>en</td>\n      <td>The War Within</td>\n    </tr>\n    <tr>\n      <th>10</th>\n      <td>en</td>\n      <td>Iraq for Sale: The War Profiteers</td>\n    </tr>\n    <tr>\n      <th>11</th>\n      <td>en</td>\n      <td>The War Tapes</td>\n    </tr>\n    <tr>\n      <th>12</th>\n      <td>en</td>\n      <td>The War on Democracy</td>\n    </tr>\n    <tr>\n      <th>13</th>\n      <td>en</td>\n      <td>The War Lord</td>\n    </tr>\n    <tr>\n      <th>14</th>\n      <td>en</td>\n      <td>Punisher: War Zone</td>\n    </tr>\n    <tr>\n      <th>15</th>\n      <td>en</td>\n      <td>Dallas - War of The Ewings</td>\n    </tr>\n    <tr>\n      <th>16</th>\n      <td>en</td>\n      <td>H.G. Wells' War of the Worlds</td>\n    </tr>\n    <tr>\n      <th>17</th>\n      <td>en</td>\n      <td>Why We Fight: War Comes to America</td>\n    </tr>\n    <tr>\n      <th>18</th>\n      <td>en</td>\n      <td>The War Game</td>\n    </tr>\n    <tr>\n      <th>19</th>\n      <td>en</td>\n      <td>The Art of War II: Betrayal</td>\n    </tr>\n    <tr>\n      <th>20</th>\n      <td>en</td>\n      <td>The Private War of Major Benson</td>\n    </tr>\n    <tr>\n      <th>21</th>\n      <td>en</td>\n      <td>Tomorrow, When the War Began</td>\n    </tr>\n    <tr>\n      <th>22</th>\n      <td>en</td>\n      <td>Jean Renoir: Part One - From La Belle Époque t...</td>\n    </tr>\n    <tr>\n      <th>23</th>\n      <td>en</td>\n      <td>The War You Don't See</td>\n    </tr>\n    <tr>\n      <th>24</th>\n      <td>en</td>\n      <td>World War Z</td>\n    </tr>\n    <tr>\n      <th>25</th>\n      <td>en</td>\n      <td>World War II: When Lions Roared</td>\n    </tr>\n    <tr>\n      <th>26</th>\n      <td>en</td>\n      <td>The War Between Men and Women</td>\n    </tr>\n    <tr>\n      <th>27</th>\n      <td>en</td>\n      <td>The Art of War III: Retribution</td>\n    </tr>\n    <tr>\n      <th>28</th>\n      <td>en</td>\n      <td>Breaking the Silence: Truth and Lies in the Wa...</td>\n    </tr>\n    <tr>\n      <th>29</th>\n      <td>en</td>\n      <td>Unborn in the USA: Inside the War on Abortion</td>\n    </tr>\n    <tr>\n      <th>30</th>\n      <td>en</td>\n      <td>The War Boys</td>\n    </tr>\n    <tr>\n      <th>31</th>\n      <td>en</td>\n      <td>The War at Home</td>\n    </tr>\n    <tr>\n      <th>32</th>\n      <td>en</td>\n      <td>Suppose They Gave a War and Nobody Came?</td>\n    </tr>\n    <tr>\n      <th>33</th>\n      <td>en</td>\n      <td>Flight World War II</td>\n    </tr>\n    <tr>\n      <th>34</th>\n      <td>en</td>\n      <td>Iliza Shlesinger: War Paint</td>\n    </tr>\n    <tr>\n      <th>35</th>\n      <td>en</td>\n      <td>Merlin and the War of the Dragons</td>\n    </tr>\n    <tr>\n      <th>36</th>\n      <td>en</td>\n      <td>Arthur 3: The War of the Two Worlds</td>\n    </tr>\n    <tr>\n      <th>37</th>\n      <td>en</td>\n      <td>The Return of the War Room</td>\n    </tr>\n    <tr>\n      <th>38</th>\n      <td>en</td>\n      <td>Obsession: Radical Islam's War Against the West</td>\n    </tr>\n    <tr>\n      <th>39</th>\n      <td>en</td>\n      <td>The War Against Mrs. Hadley</td>\n    </tr>\n    <tr>\n      <th>40</th>\n      <td>en</td>\n      <td>The Oil Factor: Behind the War on Terror</td>\n    </tr>\n    <tr>\n      <th>41</th>\n      <td>en</td>\n      <td>The Great Martian War 1913 - 1917</td>\n    </tr>\n    <tr>\n      <th>42</th>\n      <td>en</td>\n      <td>The Coming War on China</td>\n    </tr>\n  </tbody>\n</table>\n</div>"
     },
     "metadata": {},
     "execution_count": 180
    }
   ],
   "source": [
    "q2 = pd.read_sql_query(\n",
    "\"\"\"\n",
    "SELECT \n",
    "    original_language,\n",
    "    title\n",
    "\n",
    "FROM metadata\n",
    "\n",
    "WHERE original_language = 'en'\n",
    "    and title LIKE '% war %'\n",
    "\"\"\", \n",
    "    con=conn\n",
    ")\n",
    "q2"
   ]
  },
  {
   "source": [
    "# 1.2.3"
   ],
   "cell_type": "markdown",
   "metadata": {}
  },
  {
   "cell_type": "code",
   "execution_count": 199,
   "metadata": {},
   "outputs": [
    {
     "output_type": "execute_result",
     "data": {
      "text/plain": [
       "         budget  rating\n",
       "0      60000000     5.0\n",
       "1      60000000     5.0\n",
       "2      98000000     5.0\n",
       "3      98000000     5.0\n",
       "4      98000000     5.0\n",
       "...         ...     ...\n",
       "87621         0     NaN\n",
       "87622         0     NaN\n",
       "87623         0     NaN\n",
       "87624         0     NaN\n",
       "87625         0     NaN\n",
       "\n",
       "[87626 rows x 2 columns]"
      ],
      "text/html": "<div>\n<style scoped>\n    .dataframe tbody tr th:only-of-type {\n        vertical-align: middle;\n    }\n\n    .dataframe tbody tr th {\n        vertical-align: top;\n    }\n\n    .dataframe thead th {\n        text-align: right;\n    }\n</style>\n<table border=\"1\" class=\"dataframe\">\n  <thead>\n    <tr style=\"text-align: right;\">\n      <th></th>\n      <th>budget</th>\n      <th>rating</th>\n    </tr>\n  </thead>\n  <tbody>\n    <tr>\n      <th>0</th>\n      <td>60000000</td>\n      <td>5.0</td>\n    </tr>\n    <tr>\n      <th>1</th>\n      <td>60000000</td>\n      <td>5.0</td>\n    </tr>\n    <tr>\n      <th>2</th>\n      <td>98000000</td>\n      <td>5.0</td>\n    </tr>\n    <tr>\n      <th>3</th>\n      <td>98000000</td>\n      <td>5.0</td>\n    </tr>\n    <tr>\n      <th>4</th>\n      <td>98000000</td>\n      <td>5.0</td>\n    </tr>\n    <tr>\n      <th>...</th>\n      <td>...</td>\n      <td>...</td>\n    </tr>\n    <tr>\n      <th>87621</th>\n      <td>0</td>\n      <td>NaN</td>\n    </tr>\n    <tr>\n      <th>87622</th>\n      <td>0</td>\n      <td>NaN</td>\n    </tr>\n    <tr>\n      <th>87623</th>\n      <td>0</td>\n      <td>NaN</td>\n    </tr>\n    <tr>\n      <th>87624</th>\n      <td>0</td>\n      <td>NaN</td>\n    </tr>\n    <tr>\n      <th>87625</th>\n      <td>0</td>\n      <td>NaN</td>\n    </tr>\n  </tbody>\n</table>\n<p>87626 rows × 2 columns</p>\n</div>"
     },
     "metadata": {},
     "execution_count": 199
    }
   ],
   "source": [
    "q3 = pd.read_sql_query(\n",
    "\"\"\"\n",
    "SELECT\n",
    "    budget,\n",
    "    rating_s.rating\n",
    "\n",
    "FROM metadata\n",
    "\n",
    "LEFT JOIN rating_s ON\n",
    "    metadata.id = rating_s.movieId\n",
    "\n",
    "ORDER BY rating_s.rating DESC\n",
    "    \n",
    "\"\"\", con=conn)\n",
    "\n",
    "q3"
   ]
  },
  {
   "cell_type": "code",
   "execution_count": 200,
   "metadata": {},
   "outputs": [],
   "source": [
    "#tee = pd.read_csv(\"/Users/kalebmckenzie/Documents/GitHub/4-1-sql/ratings_small.csv\")"
   ]
  },
  {
   "cell_type": "markdown",
   "metadata": {},
   "source": [
    "# 2. Baseball Database\n",
    "\n",
    "The [Baseball Database](http://www.seanlahman.com/baseball-archive/statistics/) has an sqlite version. Download it for these exercises.\n",
    "\n",
    "**2.1** Which player has had the most homeruns?\n",
    "\n",
    "**2.2** Is there a relation between how many homeruns a player has made in a year and his salary that year? Pull both colums together in a single query\n",
    "\n"
   ]
  },
  {
   "cell_type": "code",
   "execution_count": 98,
   "metadata": {},
   "outputs": [],
   "source": [
    "baseball = sqlite3.connect('/Users/kalebmckenzie/Documents/GitHub/4-1-sql/lahmansbaseballdb.sqlite')\n",
    "b = baseball.cursor()\n"
   ]
  },
  {
   "cell_type": "code",
   "execution_count": 99,
   "metadata": {},
   "outputs": [],
   "source": [
    "#Just so I can view the tables in the db\n",
    "\n",
    "def tables_in_sqlite_dbb(baseball):\n",
    "    cursor = baseball.execute(\"SELECT name FROM sqlite_master WHERE type='table';\")\n",
    "    tablesb = [\n",
    "        v[0] for v in cursor.fetchall()\n",
    "        if v[0] != \"sqlite_sequence\"\n",
    "    ]\n",
    "    cursor.close()\n",
    "    return tablesb"
   ]
  },
  {
   "cell_type": "code",
   "execution_count": 100,
   "metadata": {},
   "outputs": [
    {
     "output_type": "execute_result",
     "data": {
      "text/plain": [
       "['allstarfull',\n",
       " 'appearances',\n",
       " 'awardsmanagers',\n",
       " 'awardsplayers',\n",
       " 'awardssharemanagers',\n",
       " 'awardsshareplayers',\n",
       " 'batting',\n",
       " 'battingpost',\n",
       " 'collegeplaying',\n",
       " 'divisions',\n",
       " 'fielding',\n",
       " 'fieldingof',\n",
       " 'fieldingofsplit',\n",
       " 'fieldingpost',\n",
       " 'halloffame',\n",
       " 'homegames',\n",
       " 'leagues',\n",
       " 'managers',\n",
       " 'managershalf',\n",
       " 'parks',\n",
       " 'people',\n",
       " 'pitching',\n",
       " 'pitchingpost',\n",
       " 'salaries',\n",
       " 'schools',\n",
       " 'seriespost',\n",
       " 'teams',\n",
       " 'teamsfranchises',\n",
       " 'teamshalf']"
      ]
     },
     "metadata": {},
     "execution_count": 100
    }
   ],
   "source": [
    "baseb_tables = tables_in_sqlite_dbb(baseball)\n",
    "baseb_tables"
   ]
  },
  {
   "source": [
    "# 2.1"
   ],
   "cell_type": "markdown",
   "metadata": {}
  },
  {
   "cell_type": "code",
   "execution_count": 101,
   "metadata": {},
   "outputs": [
    {
     "output_type": "execute_result",
     "data": {
      "text/plain": [
       "         playerID  HR\n",
       "0       bondsba01  73\n",
       "1       mcgwima01  70\n",
       "2        sosasa01  66\n",
       "3       mcgwima01  65\n",
       "4        sosasa01  64\n",
       "...           ...  ..\n",
       "107424  zavalse01   0\n",
       "107425  zeuchtj01   0\n",
       "107426  zimmebr01   0\n",
       "107427  zimmejo02   0\n",
       "107428  zimmeky01   0\n",
       "\n",
       "[107429 rows x 2 columns]"
      ],
      "text/html": "<div>\n<style scoped>\n    .dataframe tbody tr th:only-of-type {\n        vertical-align: middle;\n    }\n\n    .dataframe tbody tr th {\n        vertical-align: top;\n    }\n\n    .dataframe thead th {\n        text-align: right;\n    }\n</style>\n<table border=\"1\" class=\"dataframe\">\n  <thead>\n    <tr style=\"text-align: right;\">\n      <th></th>\n      <th>playerID</th>\n      <th>HR</th>\n    </tr>\n  </thead>\n  <tbody>\n    <tr>\n      <th>0</th>\n      <td>bondsba01</td>\n      <td>73</td>\n    </tr>\n    <tr>\n      <th>1</th>\n      <td>mcgwima01</td>\n      <td>70</td>\n    </tr>\n    <tr>\n      <th>2</th>\n      <td>sosasa01</td>\n      <td>66</td>\n    </tr>\n    <tr>\n      <th>3</th>\n      <td>mcgwima01</td>\n      <td>65</td>\n    </tr>\n    <tr>\n      <th>4</th>\n      <td>sosasa01</td>\n      <td>64</td>\n    </tr>\n    <tr>\n      <th>...</th>\n      <td>...</td>\n      <td>...</td>\n    </tr>\n    <tr>\n      <th>107424</th>\n      <td>zavalse01</td>\n      <td>0</td>\n    </tr>\n    <tr>\n      <th>107425</th>\n      <td>zeuchtj01</td>\n      <td>0</td>\n    </tr>\n    <tr>\n      <th>107426</th>\n      <td>zimmebr01</td>\n      <td>0</td>\n    </tr>\n    <tr>\n      <th>107427</th>\n      <td>zimmejo02</td>\n      <td>0</td>\n    </tr>\n    <tr>\n      <th>107428</th>\n      <td>zimmeky01</td>\n      <td>0</td>\n    </tr>\n  </tbody>\n</table>\n<p>107429 rows × 2 columns</p>\n</div>"
     },
     "metadata": {},
     "execution_count": 101
    }
   ],
   "source": [
    "b1 = pd.read_sql_query(\n",
    "\"\"\"\n",
    "SELECT  \n",
    "    playerID, \n",
    "    HR\n",
    "\n",
    "FROM batting\n",
    "\n",
    "ORDER BY HR DESC\n",
    "\"\"\", \n",
    "    con=baseball\n",
    ")\n",
    "b1\n",
    "\n",
    "#Player Bondsba01 had the most homeruns"
   ]
  },
  {
   "source": [
    "# 2.2 "
   ],
   "cell_type": "markdown",
   "metadata": {}
  },
  {
   "cell_type": "code",
   "execution_count": 196,
   "metadata": {},
   "outputs": [
    {
     "output_type": "execute_result",
     "data": {
      "text/plain": [
       "          HR      salary\n",
       "0         73   4500000.0\n",
       "1         73    270000.0\n",
       "2         73    320000.0\n",
       "3         73    200000.0\n",
       "4         73   3450000.0\n",
       "...       ..         ...\n",
       "33740326   0  10400000.0\n",
       "33740327   0    524000.0\n",
       "33740328   0    524900.0\n",
       "33740329   0  21733615.0\n",
       "33740330   0  14000000.0\n",
       "\n",
       "[33740331 rows x 2 columns]"
      ],
      "text/html": "<div>\n<style scoped>\n    .dataframe tbody tr th:only-of-type {\n        vertical-align: middle;\n    }\n\n    .dataframe tbody tr th {\n        vertical-align: top;\n    }\n\n    .dataframe thead th {\n        text-align: right;\n    }\n</style>\n<table border=\"1\" class=\"dataframe\">\n  <thead>\n    <tr style=\"text-align: right;\">\n      <th></th>\n      <th>HR</th>\n      <th>salary</th>\n    </tr>\n  </thead>\n  <tbody>\n    <tr>\n      <th>0</th>\n      <td>73</td>\n      <td>4500000.0</td>\n    </tr>\n    <tr>\n      <th>1</th>\n      <td>73</td>\n      <td>270000.0</td>\n    </tr>\n    <tr>\n      <th>2</th>\n      <td>73</td>\n      <td>320000.0</td>\n    </tr>\n    <tr>\n      <th>3</th>\n      <td>73</td>\n      <td>200000.0</td>\n    </tr>\n    <tr>\n      <th>4</th>\n      <td>73</td>\n      <td>3450000.0</td>\n    </tr>\n    <tr>\n      <th>...</th>\n      <td>...</td>\n      <td>...</td>\n    </tr>\n    <tr>\n      <th>33740326</th>\n      <td>0</td>\n      <td>10400000.0</td>\n    </tr>\n    <tr>\n      <th>33740327</th>\n      <td>0</td>\n      <td>524000.0</td>\n    </tr>\n    <tr>\n      <th>33740328</th>\n      <td>0</td>\n      <td>524900.0</td>\n    </tr>\n    <tr>\n      <th>33740329</th>\n      <td>0</td>\n      <td>21733615.0</td>\n    </tr>\n    <tr>\n      <th>33740330</th>\n      <td>0</td>\n      <td>14000000.0</td>\n    </tr>\n  </tbody>\n</table>\n<p>33740331 rows × 2 columns</p>\n</div>"
     },
     "metadata": {},
     "execution_count": 196
    }
   ],
   "source": [
    "b2 = pd.read_sql_query(\n",
    "\"\"\"\n",
    "SELECT \n",
    "    HR,\n",
    "    salary\n",
    "\n",
    "FROM batting\n",
    "\n",
    "INNER JOIN salaries ON\n",
    "    batting.yearID = salaries.yearID\n",
    "\n",
    "ORDER BY HR DESC\n",
    "\n",
    "\"\"\", con=baseball)\n",
    "\n",
    "b2"
   ]
  },
  {
   "cell_type": "code",
   "execution_count": null,
   "metadata": {},
   "outputs": [],
   "source": [
    "\"\"\"\n",
    "Based on the query, there doesnt seem to be a relation between homeruns\n",
    "and salary.\n",
    "\"\"\""
   ]
  }
 ]
}